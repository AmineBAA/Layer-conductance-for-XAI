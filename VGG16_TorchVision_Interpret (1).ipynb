{
  "cells": [
    {
      "cell_type": "markdown",
      "metadata": {
        "id": "IigRlmI8siv7"
      },
      "source": [
        "# Model Interpretation for Pretrained VGG-16 Model: Neural activation classification with Autoencoder"
      ]
    },
    {
      "cell_type": "markdown",
      "metadata": {
        "id": "yiTZe7yasiwA"
      },
      "source": [
        "This notebook demonstrates how to apply model interpretability algorithms on pretrained VGG-16 model using a handpicked image and visualizes the attributions for each pixel by overlaying them on the image.\n",
        "\n",
        "Captum library privides function of Layer Conductance, that helps to evaluate importance of each neuron within a given Layer"
      ]
    },
    {
      "cell_type": "code",
      "execution_count": null,
      "metadata": {
        "id": "S0EeH6IIs9MF",
        "colab": {
          "base_uri": "https://localhost:8080/"
        },
        "outputId": "7c0adf1d-8289-44a3-8a1a-48649341c4a8"
      },
      "outputs": [
        {
          "output_type": "stream",
          "name": "stdout",
          "text": [
            "Requirement already satisfied: captum in /usr/local/lib/python3.10/dist-packages (0.7.0)\n",
            "Requirement already satisfied: matplotlib in /usr/local/lib/python3.10/dist-packages (from captum) (3.7.1)\n",
            "Requirement already satisfied: numpy in /usr/local/lib/python3.10/dist-packages (from captum) (1.23.5)\n",
            "Requirement already satisfied: torch>=1.6 in /usr/local/lib/python3.10/dist-packages (from captum) (2.1.0+cu121)\n",
            "Requirement already satisfied: tqdm in /usr/local/lib/python3.10/dist-packages (from captum) (4.66.1)\n",
            "Requirement already satisfied: filelock in /usr/local/lib/python3.10/dist-packages (from torch>=1.6->captum) (3.13.1)\n",
            "Requirement already satisfied: typing-extensions in /usr/local/lib/python3.10/dist-packages (from torch>=1.6->captum) (4.5.0)\n",
            "Requirement already satisfied: sympy in /usr/local/lib/python3.10/dist-packages (from torch>=1.6->captum) (1.12)\n",
            "Requirement already satisfied: networkx in /usr/local/lib/python3.10/dist-packages (from torch>=1.6->captum) (3.2.1)\n",
            "Requirement already satisfied: jinja2 in /usr/local/lib/python3.10/dist-packages (from torch>=1.6->captum) (3.1.3)\n",
            "Requirement already satisfied: fsspec in /usr/local/lib/python3.10/dist-packages (from torch>=1.6->captum) (2023.6.0)\n",
            "Requirement already satisfied: triton==2.1.0 in /usr/local/lib/python3.10/dist-packages (from torch>=1.6->captum) (2.1.0)\n",
            "Requirement already satisfied: contourpy>=1.0.1 in /usr/local/lib/python3.10/dist-packages (from matplotlib->captum) (1.2.0)\n",
            "Requirement already satisfied: cycler>=0.10 in /usr/local/lib/python3.10/dist-packages (from matplotlib->captum) (0.12.1)\n",
            "Requirement already satisfied: fonttools>=4.22.0 in /usr/local/lib/python3.10/dist-packages (from matplotlib->captum) (4.47.2)\n",
            "Requirement already satisfied: kiwisolver>=1.0.1 in /usr/local/lib/python3.10/dist-packages (from matplotlib->captum) (1.4.5)\n",
            "Requirement already satisfied: packaging>=20.0 in /usr/local/lib/python3.10/dist-packages (from matplotlib->captum) (23.2)\n",
            "Requirement already satisfied: pillow>=6.2.0 in /usr/local/lib/python3.10/dist-packages (from matplotlib->captum) (9.4.0)\n",
            "Requirement already satisfied: pyparsing>=2.3.1 in /usr/local/lib/python3.10/dist-packages (from matplotlib->captum) (3.1.1)\n",
            "Requirement already satisfied: python-dateutil>=2.7 in /usr/local/lib/python3.10/dist-packages (from matplotlib->captum) (2.8.2)\n",
            "Requirement already satisfied: six>=1.5 in /usr/local/lib/python3.10/dist-packages (from python-dateutil>=2.7->matplotlib->captum) (1.16.0)\n",
            "Requirement already satisfied: MarkupSafe>=2.0 in /usr/local/lib/python3.10/dist-packages (from jinja2->torch>=1.6->captum) (2.1.3)\n",
            "Requirement already satisfied: mpmath>=0.19 in /usr/local/lib/python3.10/dist-packages (from sympy->torch>=1.6->captum) (1.3.0)\n"
          ]
        }
      ],
      "source": [
        "pip install captum"
      ]
    },
    {
      "cell_type": "code",
      "execution_count": null,
      "metadata": {
        "id": "k8J2PydasiwB"
      },
      "outputs": [],
      "source": [
        "import torch\n",
        "import torch.nn.functional as F\n",
        "\n",
        "from PIL import Image\n",
        "\n",
        "import os\n",
        "import json\n",
        "import numpy as np\n",
        "from matplotlib.colors import LinearSegmentedColormap\n",
        "import matplotlib.pyplot as plt\n",
        "\n",
        "import torchvision\n",
        "from torchvision import models\n",
        "from torchvision import transforms\n",
        "\n",
        "from captum.attr import IntegratedGradients\n",
        "from captum.attr import GradientShap\n",
        "from captum.attr import Occlusion\n",
        "from captum.attr import NoiseTunnel\n",
        "from captum.attr import visualization as viz"
      ]
    },
    {
      "cell_type": "markdown",
      "metadata": {
        "id": "D8EpTB_ysiwD"
      },
      "source": [
        "## 1- Loading the model and the dataset\n"
      ]
    },
    {
      "cell_type": "markdown",
      "metadata": {
        "id": "s97qQ39fsiwE"
      },
      "source": [
        "Loads pretrained Resnet model and sets it to eval mode"
      ]
    },
    {
      "cell_type": "code",
      "execution_count": null,
      "metadata": {
        "id": "CavnkdmesiwE",
        "colab": {
          "base_uri": "https://localhost:8080/"
        },
        "outputId": "1c9cb596-69b6-43aa-9995-b28abacd650a"
      },
      "outputs": [
        {
          "output_type": "stream",
          "name": "stderr",
          "text": [
            "/usr/local/lib/python3.10/dist-packages/torchvision/models/_utils.py:208: UserWarning: The parameter 'pretrained' is deprecated since 0.13 and may be removed in the future, please use 'weights' instead.\n",
            "  warnings.warn(\n",
            "/usr/local/lib/python3.10/dist-packages/torchvision/models/_utils.py:223: UserWarning: Arguments other than a weight enum or `None` for 'weights' are deprecated since 0.13 and may be removed in the future. The current behavior is equivalent to passing `weights=VGG16_Weights.IMAGENET1K_V1`. You can also use `weights=VGG16_Weights.DEFAULT` to get the most up-to-date weights.\n",
            "  warnings.warn(msg)\n"
          ]
        }
      ],
      "source": [
        "model = models.vgg16(pretrained=True)\n",
        "model = model.eval()"
      ]
    },
    {
      "cell_type": "markdown",
      "metadata": {
        "id": "afQl4211siwF"
      },
      "source": [
        "Downloads the list of classes/labels for ImageNet dataset and reads them into the memory"
      ]
    },
    {
      "cell_type": "code",
      "execution_count": null,
      "metadata": {
        "id": "Q0brGoEQsiwF",
        "colab": {
          "base_uri": "https://localhost:8080/"
        },
        "outputId": "ed81af1e-9b50-4ce5-e4ac-af91ae7d9531"
      },
      "outputs": [
        {
          "output_type": "stream",
          "name": "stdout",
          "text": [
            "--2024-01-18 22:17:08--  https://s3.amazonaws.com/deep-learning-models/image-models/imagenet_class_index.json\n",
            "Resolving s3.amazonaws.com (s3.amazonaws.com)... 52.217.138.248, 52.217.175.56, 54.231.171.208, ...\n",
            "Connecting to s3.amazonaws.com (s3.amazonaws.com)|52.217.138.248|:443... connected.\n",
            "HTTP request sent, awaiting response... 200 OK\n",
            "Length: 35363 (35K) [application/octet-stream]\n",
            "Saving to: ‘/root/.torch/models/imagenet_class_index.json.1’\n",
            "\n",
            "\r          imagenet_   0%[                    ]       0  --.-KB/s               \rimagenet_class_inde 100%[===================>]  34.53K  --.-KB/s    in 0.03s   \n",
            "\n",
            "2024-01-18 22:17:08 (1.33 MB/s) - ‘/root/.torch/models/imagenet_class_index.json.1’ saved [35363/35363]\n",
            "\n"
          ]
        }
      ],
      "source": [
        "!wget -P $HOME/.torch/models https://s3.amazonaws.com/deep-learning-models/image-models/imagenet_class_index.json"
      ]
    },
    {
      "cell_type": "code",
      "execution_count": null,
      "metadata": {
        "id": "qX5Nbt_9siwH"
      },
      "outputs": [],
      "source": [
        "labels_path = os.getenv(\"HOME\") + '/.torch/models/imagenet_class_index.json'\n",
        "with open(labels_path) as json_data:\n",
        "    idx_to_labels = json.load(json_data)"
      ]
    },
    {
      "cell_type": "code",
      "execution_count": null,
      "metadata": {
        "colab": {
          "base_uri": "https://localhost:8080/"
        },
        "id": "yr2yLA-uk0mJ",
        "outputId": "c7eebf6c-3a61-4517-92f3-970e95e37a29"
      },
      "outputs": [
        {
          "name": "stdout",
          "output_type": "stream",
          "text": [
            "Files renamed successfully.\n"
          ]
        }
      ],
      "source": [
        "### Rename files\n",
        "\n",
        "import os\n",
        "import glob\n",
        "\n",
        "# Replace these values with your desired folder and renaming criteria\n",
        "folder_path = '/content'\n",
        "file_extension = '.jpg'  # Change to the desired file extension\n",
        "name_pattern = 'animal_{}'  # Change to your preferred name pattern\n",
        "\n",
        "# Get a list of files that match the criteria\n",
        "files_to_rename = glob.glob(os.path.join(folder_path, f\"*{file_extension}\"))\n",
        "\n",
        "# Iterate through the files and rename them\n",
        "for index, old_file_path in enumerate(files_to_rename):\n",
        "    # Extract the file's base name without extension\n",
        "    base_name = os.path.splitext(os.path.basename(old_file_path))[0]\n",
        "\n",
        "    # Construct the new name using the pattern\n",
        "    new_name = name_pattern.format(index + 1)\n",
        "\n",
        "    # Create the new file path with the same extension as the old file\n",
        "    new_file_path = os.path.join(folder_path, f\"{new_name}{file_extension}\")\n",
        "\n",
        "    # Rename the file\n",
        "    os.rename(old_file_path, new_file_path)\n",
        "\n",
        "print(\"Files renamed successfully.\")"
      ]
    },
    {
      "cell_type": "markdown",
      "metadata": {
        "id": "I1frMEODsiwH"
      },
      "source": [
        "Defines transformers and normalizing functions for the image.\n",
        "It also loads an image from the `img/resnet/` folder that will be used for interpretation purposes."
      ]
    },
    {
      "cell_type": "code",
      "execution_count": null,
      "metadata": {
        "id": "TOcXPDP4siwI"
      },
      "outputs": [],
      "source": [
        "transform = transforms.Compose([\n",
        " transforms.Resize(256),\n",
        " transforms.CenterCrop(224),\n",
        " transforms.ToTensor()\n",
        "])\n",
        "\n",
        "transform_normalize = transforms.Normalize(\n",
        "     mean=[0.485, 0.456, 0.406],\n",
        "     std=[0.229, 0.224, 0.225]\n",
        " )\n",
        "\n",
        "img = Image.open('/content/animal_1.jpg')\n",
        "\n",
        "transformed_img = transform(img)\n",
        "\n",
        "input = transform_normalize(transformed_img)\n",
        "input = input.unsqueeze(0)"
      ]
    },
    {
      "cell_type": "markdown",
      "metadata": {
        "id": "vNZJG6CAsiwI"
      },
      "source": [
        "Predict the class of the input image"
      ]
    },
    {
      "cell_type": "code",
      "execution_count": null,
      "metadata": {
        "colab": {
          "base_uri": "https://localhost:8080/"
        },
        "id": "R-ZSeZBGsiwI",
        "outputId": "e9f8ebc7-b0b1-4fc0-aad9-b8c217521587"
      },
      "outputs": [
        {
          "output_type": "stream",
          "name": "stdout",
          "text": [
            "Predicted: lion ( 0.6249977350234985 )\n"
          ]
        }
      ],
      "source": [
        "output = model(input)\n",
        "output = F.softmax(output, dim=1)\n",
        "prediction_score, pred_label_idx = torch.topk(output, 1)\n",
        "\n",
        "pred_label_idx.squeeze_()\n",
        "predicted_label = idx_to_labels[str(pred_label_idx.item())][1]\n",
        "print('Predicted:', predicted_label, '(', prediction_score.squeeze().item(), ')')\n"
      ]
    },
    {
      "cell_type": "code",
      "execution_count": null,
      "metadata": {
        "colab": {
          "base_uri": "https://localhost:8080/"
        },
        "id": "6fYC_z4-psCS",
        "outputId": "37767da0-7ef5-47eb-9a36-75df9033eccb"
      },
      "outputs": [
        {
          "output_type": "execute_result",
          "data": {
            "text/plain": [
              "291"
            ]
          },
          "metadata": {},
          "execution_count": 10
        }
      ],
      "source": [
        "pred_label_idx.item()"
      ]
    },
    {
      "cell_type": "code",
      "execution_count": null,
      "metadata": {
        "id": "6hT9CiTgdBm_"
      },
      "outputs": [],
      "source": [
        "layer_conv=model.features[14] # Corresponds to the 7th layer"
      ]
    },
    {
      "cell_type": "markdown",
      "metadata": {
        "id": "upGS-IL4dg75"
      },
      "source": [
        "## 3- Layer Conductance"
      ]
    },
    {
      "cell_type": "code",
      "execution_count": null,
      "metadata": {
        "id": "tA1azY7WtvwX"
      },
      "outputs": [],
      "source": [
        "from captum.attr import LayerConductance\n",
        "cond =LayerConductance(model, layer_conv)"
      ]
    },
    {
      "cell_type": "code",
      "execution_count": null,
      "metadata": {
        "id": "_AoVgOMouoaE"
      },
      "outputs": [],
      "source": [
        "cond =LayerConductance(model,layer_conv)\n",
        "cond_vals = cond.attribute(input,target=291)\n",
        "cond_vals = cond_vals.detach().numpy()\n",
        "p=cond_vals.shape[1]\n",
        "q=cond_vals.shape[2]*cond_vals.shape[3]\n",
        "cond_vals_flatten_conv=cond_vals.reshape((p,q))"
      ]
    },
    {
      "cell_type": "code",
      "execution_count": null,
      "metadata": {
        "colab": {
          "base_uri": "https://localhost:8080/"
        },
        "id": "N-ZZhRJur9cc",
        "outputId": "6f39af0c-5a75-4952-85fe-b834a78780c5"
      },
      "outputs": [
        {
          "output_type": "execute_result",
          "data": {
            "text/plain": [
              "(256, 3136)"
            ]
          },
          "metadata": {},
          "execution_count": 14
        }
      ],
      "source": [
        "cond_vals_flatten_conv.shape"
      ]
    },
    {
      "cell_type": "code",
      "execution_count": null,
      "metadata": {
        "id": "hbK_69jsu9gn"
      },
      "outputs": [],
      "source": [
        "# Helper method to print importances and visualize distribution\n",
        "def visualize_importances(feature_names, importances, title=\"Average Feature Importances\", plot=True, axis_title=\"Features\"):\n",
        "    print(title)\n",
        "    for i in range(len(feature_names)):\n",
        "        print(feature_names[i], \": \", '%.4f'%(importances[i]))\n",
        "    x_pos = (np.arange(len(feature_names)))\n",
        "    if plot:\n",
        "        plt.figure(figsize=(12,6))\n",
        "        cmap = plt.get_cmap('copper')\n",
        "        norm = plt.Normalize(importances.min(), importances.max())\n",
        "        colors = cmap(norm(importances))\n",
        "        plt.bar(x_pos, importances, align='center',color=colors)\n",
        "        plt.xticks(x_pos, feature_names, wrap=True)\n",
        "        plt.xlabel(axis_title)\n",
        "        plt.title(title)\n"
      ]
    },
    {
      "cell_type": "code",
      "execution_count": null,
      "metadata": {
        "id": "vWENOWSwqYsI"
      },
      "outputs": [],
      "source": [
        "visualize_importances(range(256),np.mean(cond_vals_flatten_conv, axis=1),title=\"Average Neuron Importances\", axis_title=\"Neurons\")"
      ]
    },
    {
      "cell_type": "code",
      "execution_count": null,
      "metadata": {
        "colab": {
          "base_uri": "https://localhost:8080/"
        },
        "id": "K82LxQiyqfHH",
        "outputId": "2df2883b-8b6d-40ab-f543-a8d615794a45"
      },
      "outputs": [
        {
          "data": {
            "text/plain": [
              "(array([110]),)"
            ]
          },
          "execution_count": 18,
          "metadata": {},
          "output_type": "execute_result"
        }
      ],
      "source": [
        "importance=np.mean(cond_vals_flatten_conv, axis=1)\n",
        "np.where(importance==np.max(importance))"
      ]
    },
    {
      "cell_type": "code",
      "execution_count": null,
      "metadata": {
        "id": "MyIc4MfwylQC"
      },
      "outputs": [],
      "source": [
        "vector=[]\n",
        "\n",
        "for i in range(256):\n",
        "  vector.append(np.mean(cond_vals_flatten_conv[i,]))"
      ]
    },
    {
      "cell_type": "code",
      "execution_count": null,
      "metadata": {
        "id": "g-ZIdBJru9d4"
      },
      "outputs": [],
      "source": [
        "################################################################################"
      ]
    },
    {
      "cell_type": "code",
      "execution_count": null,
      "metadata": {
        "id": "mk30eHGzwFoK"
      },
      "outputs": [],
      "source": [
        "merged_array=vector\n",
        "y=[prediction_score.squeeze().item()]\n",
        "label=['lion']\n",
        "score=[0.62]\n",
        "for i in range(2,537):\n",
        "  transform = transforms.Compose([ transforms.Resize(256),transforms.CenterCrop(224),transforms.ToTensor()])\n",
        "  transform_normalize = transforms.Normalize(mean=[0.485, 0.456, 0.406],std=[0.229, 0.224, 0.225])\n",
        "  img = Image.open('/content/animal_'+str(i)+'.jpg')\n",
        "  transformed_img = transform(img)\n",
        "  input = transform_normalize(transformed_img)\n",
        "  input = input.unsqueeze(0)\n",
        "  output = model(input)\n",
        "  output = F.softmax(output, dim=1)\n",
        "  prediction_score, pred_label_idx = torch.topk(output, 1)\n",
        "  pred_label_idx.squeeze_()\n",
        "  predicted_label = idx_to_labels[str(pred_label_idx.item())][1]\n",
        "  y.append(prediction_score.squeeze().item())\n",
        "  label.append(predicted_label)\n",
        "  score.append(prediction_score.detach().numpy())\n",
        "  index=pred_label_idx.item()\n",
        "  cond =LayerConductance(model,layer_conv)\n",
        "  cond_vals = cond.attribute(input,target=291)\n",
        "  cond_vals = cond_vals.detach().numpy()\n",
        "  p=cond_vals.shape[1]\n",
        "  q=cond_vals.shape[2]*cond_vals.shape[3]\n",
        "  cond_vals_flatten=cond_vals.reshape((p,q))\n",
        "  var=[]\n",
        "  for j in range(256):\n",
        "    var.append(np.mean(cond_vals_flatten[j,]))\n",
        "\n",
        "\n",
        "  merged_array = np.column_stack((merged_array,var))"
      ]
    },
    {
      "cell_type": "code",
      "execution_count": null,
      "metadata": {
        "colab": {
          "base_uri": "https://localhost:8080/"
        },
        "id": "ul45TEVvwIZc",
        "outputId": "0f70655e-138e-42b6-c197-613fdda43b0a"
      },
      "outputs": [
        {
          "output_type": "execute_result",
          "data": {
            "text/plain": [
              "(256, 536)"
            ]
          },
          "metadata": {},
          "execution_count": 17
        }
      ],
      "source": [
        "merged_array.shape"
      ]
    },
    {
      "cell_type": "code",
      "execution_count": null,
      "metadata": {
        "colab": {
          "base_uri": "https://localhost:8080/"
        },
        "id": "CdM1F-Hx8NrE",
        "outputId": "da66d7ef-521e-43fc-8589-ba6f2568e643"
      },
      "outputs": [
        {
          "output_type": "execute_result",
          "data": {
            "text/plain": [
              "536"
            ]
          },
          "metadata": {},
          "execution_count": 18
        }
      ],
      "source": [
        "len(label)"
      ]
    },
    {
      "cell_type": "code",
      "execution_count": null,
      "metadata": {
        "id": "_4PEjkS6wFj4"
      },
      "outputs": [],
      "source": [
        "############################################################################"
      ]
    },
    {
      "cell_type": "markdown",
      "metadata": {
        "id": "zModE7Ua9c1y"
      },
      "source": [
        "## 4- Data processing"
      ]
    },
    {
      "cell_type": "code",
      "execution_count": null,
      "metadata": {
        "id": "5fq09AxE9BFE"
      },
      "outputs": [],
      "source": [
        "import pandas as pd"
      ]
    },
    {
      "cell_type": "code",
      "execution_count": null,
      "metadata": {
        "id": "cRJGDP2y84D9"
      },
      "outputs": [],
      "source": [
        "X=pd.DataFrame(np.transpose(merged_array))"
      ]
    },
    {
      "cell_type": "code",
      "execution_count": null,
      "metadata": {
        "colab": {
          "base_uri": "https://localhost:8080/",
          "height": 342
        },
        "id": "I3tW1XjM83ii",
        "outputId": "e1e442b1-c9bc-4d7b-eac8-322d796477bc"
      },
      "outputs": [
        {
          "output_type": "execute_result",
          "data": {
            "text/plain": [
              "            0         1         2             3         4         5    \\\n",
              "0  1.022647e-06  0.000089  0.000036 -1.767632e-05  0.000020  0.000032   \n",
              "1 -9.573832e-06 -0.000011  0.000124 -1.283500e-07  0.000041  0.000175   \n",
              "2  9.383871e-07  0.000017  0.000023  1.573883e-04 -0.000005  0.000023   \n",
              "3  7.349693e-06 -0.000028  0.000039  6.628978e-05  0.000011  0.000036   \n",
              "4  9.994254e-06 -0.000050  0.000009  3.485719e-05  0.000033  0.000008   \n",
              "\n",
              "        6         7             8         9    ...       246       247  \\\n",
              "0  0.000137 -0.000010 -3.194980e-05  0.000095  ... -0.000085  0.000173   \n",
              "1  0.000035 -0.000003  6.473571e-07 -0.000003  ... -0.000080  0.000051   \n",
              "2  0.000086  0.000037 -2.631534e-05  0.000095  ... -0.000108  0.000163   \n",
              "3  0.000037 -0.000003  3.295221e-05  0.000017  ... -0.000131  0.000219   \n",
              "4 -0.000071 -0.000009  4.088332e-05  0.000082  ... -0.000093  0.000003   \n",
              "\n",
              "        248       249       250       251       252       253           254  \\\n",
              "0 -0.000051 -0.000022 -0.000003 -0.000005 -0.000018 -0.000011  6.062892e-06   \n",
              "1 -0.000071 -0.000013  0.000006  0.000004  0.000009  0.000023  8.192484e-07   \n",
              "2 -0.000004 -0.000037 -0.000112 -0.000015  0.000031 -0.000003  2.132770e-05   \n",
              "3  0.000023 -0.000073 -0.000024  0.000028  0.000005 -0.000074 -7.430767e-06   \n",
              "4  0.000009 -0.000045 -0.000010  0.000074  0.000144  0.000008 -1.255561e-06   \n",
              "\n",
              "        255  \n",
              "0 -0.000152  \n",
              "1  0.000007  \n",
              "2 -0.000088  \n",
              "3  0.000006  \n",
              "4 -0.000085  \n",
              "\n",
              "[5 rows x 256 columns]"
            ],
            "text/html": [
              "\n",
              "  <div id=\"df-1863787f-cf44-4a4b-b467-a8d213692ae8\" class=\"colab-df-container\">\n",
              "    <div>\n",
              "<style scoped>\n",
              "    .dataframe tbody tr th:only-of-type {\n",
              "        vertical-align: middle;\n",
              "    }\n",
              "\n",
              "    .dataframe tbody tr th {\n",
              "        vertical-align: top;\n",
              "    }\n",
              "\n",
              "    .dataframe thead th {\n",
              "        text-align: right;\n",
              "    }\n",
              "</style>\n",
              "<table border=\"1\" class=\"dataframe\">\n",
              "  <thead>\n",
              "    <tr style=\"text-align: right;\">\n",
              "      <th></th>\n",
              "      <th>0</th>\n",
              "      <th>1</th>\n",
              "      <th>2</th>\n",
              "      <th>3</th>\n",
              "      <th>4</th>\n",
              "      <th>5</th>\n",
              "      <th>6</th>\n",
              "      <th>7</th>\n",
              "      <th>8</th>\n",
              "      <th>9</th>\n",
              "      <th>...</th>\n",
              "      <th>246</th>\n",
              "      <th>247</th>\n",
              "      <th>248</th>\n",
              "      <th>249</th>\n",
              "      <th>250</th>\n",
              "      <th>251</th>\n",
              "      <th>252</th>\n",
              "      <th>253</th>\n",
              "      <th>254</th>\n",
              "      <th>255</th>\n",
              "    </tr>\n",
              "  </thead>\n",
              "  <tbody>\n",
              "    <tr>\n",
              "      <th>0</th>\n",
              "      <td>1.022647e-06</td>\n",
              "      <td>0.000089</td>\n",
              "      <td>0.000036</td>\n",
              "      <td>-1.767632e-05</td>\n",
              "      <td>0.000020</td>\n",
              "      <td>0.000032</td>\n",
              "      <td>0.000137</td>\n",
              "      <td>-0.000010</td>\n",
              "      <td>-3.194980e-05</td>\n",
              "      <td>0.000095</td>\n",
              "      <td>...</td>\n",
              "      <td>-0.000085</td>\n",
              "      <td>0.000173</td>\n",
              "      <td>-0.000051</td>\n",
              "      <td>-0.000022</td>\n",
              "      <td>-0.000003</td>\n",
              "      <td>-0.000005</td>\n",
              "      <td>-0.000018</td>\n",
              "      <td>-0.000011</td>\n",
              "      <td>6.062892e-06</td>\n",
              "      <td>-0.000152</td>\n",
              "    </tr>\n",
              "    <tr>\n",
              "      <th>1</th>\n",
              "      <td>-9.573832e-06</td>\n",
              "      <td>-0.000011</td>\n",
              "      <td>0.000124</td>\n",
              "      <td>-1.283500e-07</td>\n",
              "      <td>0.000041</td>\n",
              "      <td>0.000175</td>\n",
              "      <td>0.000035</td>\n",
              "      <td>-0.000003</td>\n",
              "      <td>6.473571e-07</td>\n",
              "      <td>-0.000003</td>\n",
              "      <td>...</td>\n",
              "      <td>-0.000080</td>\n",
              "      <td>0.000051</td>\n",
              "      <td>-0.000071</td>\n",
              "      <td>-0.000013</td>\n",
              "      <td>0.000006</td>\n",
              "      <td>0.000004</td>\n",
              "      <td>0.000009</td>\n",
              "      <td>0.000023</td>\n",
              "      <td>8.192484e-07</td>\n",
              "      <td>0.000007</td>\n",
              "    </tr>\n",
              "    <tr>\n",
              "      <th>2</th>\n",
              "      <td>9.383871e-07</td>\n",
              "      <td>0.000017</td>\n",
              "      <td>0.000023</td>\n",
              "      <td>1.573883e-04</td>\n",
              "      <td>-0.000005</td>\n",
              "      <td>0.000023</td>\n",
              "      <td>0.000086</td>\n",
              "      <td>0.000037</td>\n",
              "      <td>-2.631534e-05</td>\n",
              "      <td>0.000095</td>\n",
              "      <td>...</td>\n",
              "      <td>-0.000108</td>\n",
              "      <td>0.000163</td>\n",
              "      <td>-0.000004</td>\n",
              "      <td>-0.000037</td>\n",
              "      <td>-0.000112</td>\n",
              "      <td>-0.000015</td>\n",
              "      <td>0.000031</td>\n",
              "      <td>-0.000003</td>\n",
              "      <td>2.132770e-05</td>\n",
              "      <td>-0.000088</td>\n",
              "    </tr>\n",
              "    <tr>\n",
              "      <th>3</th>\n",
              "      <td>7.349693e-06</td>\n",
              "      <td>-0.000028</td>\n",
              "      <td>0.000039</td>\n",
              "      <td>6.628978e-05</td>\n",
              "      <td>0.000011</td>\n",
              "      <td>0.000036</td>\n",
              "      <td>0.000037</td>\n",
              "      <td>-0.000003</td>\n",
              "      <td>3.295221e-05</td>\n",
              "      <td>0.000017</td>\n",
              "      <td>...</td>\n",
              "      <td>-0.000131</td>\n",
              "      <td>0.000219</td>\n",
              "      <td>0.000023</td>\n",
              "      <td>-0.000073</td>\n",
              "      <td>-0.000024</td>\n",
              "      <td>0.000028</td>\n",
              "      <td>0.000005</td>\n",
              "      <td>-0.000074</td>\n",
              "      <td>-7.430767e-06</td>\n",
              "      <td>0.000006</td>\n",
              "    </tr>\n",
              "    <tr>\n",
              "      <th>4</th>\n",
              "      <td>9.994254e-06</td>\n",
              "      <td>-0.000050</td>\n",
              "      <td>0.000009</td>\n",
              "      <td>3.485719e-05</td>\n",
              "      <td>0.000033</td>\n",
              "      <td>0.000008</td>\n",
              "      <td>-0.000071</td>\n",
              "      <td>-0.000009</td>\n",
              "      <td>4.088332e-05</td>\n",
              "      <td>0.000082</td>\n",
              "      <td>...</td>\n",
              "      <td>-0.000093</td>\n",
              "      <td>0.000003</td>\n",
              "      <td>0.000009</td>\n",
              "      <td>-0.000045</td>\n",
              "      <td>-0.000010</td>\n",
              "      <td>0.000074</td>\n",
              "      <td>0.000144</td>\n",
              "      <td>0.000008</td>\n",
              "      <td>-1.255561e-06</td>\n",
              "      <td>-0.000085</td>\n",
              "    </tr>\n",
              "  </tbody>\n",
              "</table>\n",
              "<p>5 rows × 256 columns</p>\n",
              "</div>\n",
              "    <div class=\"colab-df-buttons\">\n",
              "\n",
              "  <div class=\"colab-df-container\">\n",
              "    <button class=\"colab-df-convert\" onclick=\"convertToInteractive('df-1863787f-cf44-4a4b-b467-a8d213692ae8')\"\n",
              "            title=\"Convert this dataframe to an interactive table.\"\n",
              "            style=\"display:none;\">\n",
              "\n",
              "  <svg xmlns=\"http://www.w3.org/2000/svg\" height=\"24px\" viewBox=\"0 -960 960 960\">\n",
              "    <path d=\"M120-120v-720h720v720H120Zm60-500h600v-160H180v160Zm220 220h160v-160H400v160Zm0 220h160v-160H400v160ZM180-400h160v-160H180v160Zm440 0h160v-160H620v160ZM180-180h160v-160H180v160Zm440 0h160v-160H620v160Z\"/>\n",
              "  </svg>\n",
              "    </button>\n",
              "\n",
              "  <style>\n",
              "    .colab-df-container {\n",
              "      display:flex;\n",
              "      gap: 12px;\n",
              "    }\n",
              "\n",
              "    .colab-df-convert {\n",
              "      background-color: #E8F0FE;\n",
              "      border: none;\n",
              "      border-radius: 50%;\n",
              "      cursor: pointer;\n",
              "      display: none;\n",
              "      fill: #1967D2;\n",
              "      height: 32px;\n",
              "      padding: 0 0 0 0;\n",
              "      width: 32px;\n",
              "    }\n",
              "\n",
              "    .colab-df-convert:hover {\n",
              "      background-color: #E2EBFA;\n",
              "      box-shadow: 0px 1px 2px rgba(60, 64, 67, 0.3), 0px 1px 3px 1px rgba(60, 64, 67, 0.15);\n",
              "      fill: #174EA6;\n",
              "    }\n",
              "\n",
              "    .colab-df-buttons div {\n",
              "      margin-bottom: 4px;\n",
              "    }\n",
              "\n",
              "    [theme=dark] .colab-df-convert {\n",
              "      background-color: #3B4455;\n",
              "      fill: #D2E3FC;\n",
              "    }\n",
              "\n",
              "    [theme=dark] .colab-df-convert:hover {\n",
              "      background-color: #434B5C;\n",
              "      box-shadow: 0px 1px 3px 1px rgba(0, 0, 0, 0.15);\n",
              "      filter: drop-shadow(0px 1px 2px rgba(0, 0, 0, 0.3));\n",
              "      fill: #FFFFFF;\n",
              "    }\n",
              "  </style>\n",
              "\n",
              "    <script>\n",
              "      const buttonEl =\n",
              "        document.querySelector('#df-1863787f-cf44-4a4b-b467-a8d213692ae8 button.colab-df-convert');\n",
              "      buttonEl.style.display =\n",
              "        google.colab.kernel.accessAllowed ? 'block' : 'none';\n",
              "\n",
              "      async function convertToInteractive(key) {\n",
              "        const element = document.querySelector('#df-1863787f-cf44-4a4b-b467-a8d213692ae8');\n",
              "        const dataTable =\n",
              "          await google.colab.kernel.invokeFunction('convertToInteractive',\n",
              "                                                    [key], {});\n",
              "        if (!dataTable) return;\n",
              "\n",
              "        const docLinkHtml = 'Like what you see? Visit the ' +\n",
              "          '<a target=\"_blank\" href=https://colab.research.google.com/notebooks/data_table.ipynb>data table notebook</a>'\n",
              "          + ' to learn more about interactive tables.';\n",
              "        element.innerHTML = '';\n",
              "        dataTable['output_type'] = 'display_data';\n",
              "        await google.colab.output.renderOutput(dataTable, element);\n",
              "        const docLink = document.createElement('div');\n",
              "        docLink.innerHTML = docLinkHtml;\n",
              "        element.appendChild(docLink);\n",
              "      }\n",
              "    </script>\n",
              "  </div>\n",
              "\n",
              "\n",
              "<div id=\"df-5a04c01b-2753-4d9a-a4c9-de822a390568\">\n",
              "  <button class=\"colab-df-quickchart\" onclick=\"quickchart('df-5a04c01b-2753-4d9a-a4c9-de822a390568')\"\n",
              "            title=\"Suggest charts\"\n",
              "            style=\"display:none;\">\n",
              "\n",
              "<svg xmlns=\"http://www.w3.org/2000/svg\" height=\"24px\"viewBox=\"0 0 24 24\"\n",
              "     width=\"24px\">\n",
              "    <g>\n",
              "        <path d=\"M19 3H5c-1.1 0-2 .9-2 2v14c0 1.1.9 2 2 2h14c1.1 0 2-.9 2-2V5c0-1.1-.9-2-2-2zM9 17H7v-7h2v7zm4 0h-2V7h2v10zm4 0h-2v-4h2v4z\"/>\n",
              "    </g>\n",
              "</svg>\n",
              "  </button>\n",
              "\n",
              "<style>\n",
              "  .colab-df-quickchart {\n",
              "      --bg-color: #E8F0FE;\n",
              "      --fill-color: #1967D2;\n",
              "      --hover-bg-color: #E2EBFA;\n",
              "      --hover-fill-color: #174EA6;\n",
              "      --disabled-fill-color: #AAA;\n",
              "      --disabled-bg-color: #DDD;\n",
              "  }\n",
              "\n",
              "  [theme=dark] .colab-df-quickchart {\n",
              "      --bg-color: #3B4455;\n",
              "      --fill-color: #D2E3FC;\n",
              "      --hover-bg-color: #434B5C;\n",
              "      --hover-fill-color: #FFFFFF;\n",
              "      --disabled-bg-color: #3B4455;\n",
              "      --disabled-fill-color: #666;\n",
              "  }\n",
              "\n",
              "  .colab-df-quickchart {\n",
              "    background-color: var(--bg-color);\n",
              "    border: none;\n",
              "    border-radius: 50%;\n",
              "    cursor: pointer;\n",
              "    display: none;\n",
              "    fill: var(--fill-color);\n",
              "    height: 32px;\n",
              "    padding: 0;\n",
              "    width: 32px;\n",
              "  }\n",
              "\n",
              "  .colab-df-quickchart:hover {\n",
              "    background-color: var(--hover-bg-color);\n",
              "    box-shadow: 0 1px 2px rgba(60, 64, 67, 0.3), 0 1px 3px 1px rgba(60, 64, 67, 0.15);\n",
              "    fill: var(--button-hover-fill-color);\n",
              "  }\n",
              "\n",
              "  .colab-df-quickchart-complete:disabled,\n",
              "  .colab-df-quickchart-complete:disabled:hover {\n",
              "    background-color: var(--disabled-bg-color);\n",
              "    fill: var(--disabled-fill-color);\n",
              "    box-shadow: none;\n",
              "  }\n",
              "\n",
              "  .colab-df-spinner {\n",
              "    border: 2px solid var(--fill-color);\n",
              "    border-color: transparent;\n",
              "    border-bottom-color: var(--fill-color);\n",
              "    animation:\n",
              "      spin 1s steps(1) infinite;\n",
              "  }\n",
              "\n",
              "  @keyframes spin {\n",
              "    0% {\n",
              "      border-color: transparent;\n",
              "      border-bottom-color: var(--fill-color);\n",
              "      border-left-color: var(--fill-color);\n",
              "    }\n",
              "    20% {\n",
              "      border-color: transparent;\n",
              "      border-left-color: var(--fill-color);\n",
              "      border-top-color: var(--fill-color);\n",
              "    }\n",
              "    30% {\n",
              "      border-color: transparent;\n",
              "      border-left-color: var(--fill-color);\n",
              "      border-top-color: var(--fill-color);\n",
              "      border-right-color: var(--fill-color);\n",
              "    }\n",
              "    40% {\n",
              "      border-color: transparent;\n",
              "      border-right-color: var(--fill-color);\n",
              "      border-top-color: var(--fill-color);\n",
              "    }\n",
              "    60% {\n",
              "      border-color: transparent;\n",
              "      border-right-color: var(--fill-color);\n",
              "    }\n",
              "    80% {\n",
              "      border-color: transparent;\n",
              "      border-right-color: var(--fill-color);\n",
              "      border-bottom-color: var(--fill-color);\n",
              "    }\n",
              "    90% {\n",
              "      border-color: transparent;\n",
              "      border-bottom-color: var(--fill-color);\n",
              "    }\n",
              "  }\n",
              "</style>\n",
              "\n",
              "  <script>\n",
              "    async function quickchart(key) {\n",
              "      const quickchartButtonEl =\n",
              "        document.querySelector('#' + key + ' button');\n",
              "      quickchartButtonEl.disabled = true;  // To prevent multiple clicks.\n",
              "      quickchartButtonEl.classList.add('colab-df-spinner');\n",
              "      try {\n",
              "        const charts = await google.colab.kernel.invokeFunction(\n",
              "            'suggestCharts', [key], {});\n",
              "      } catch (error) {\n",
              "        console.error('Error during call to suggestCharts:', error);\n",
              "      }\n",
              "      quickchartButtonEl.classList.remove('colab-df-spinner');\n",
              "      quickchartButtonEl.classList.add('colab-df-quickchart-complete');\n",
              "    }\n",
              "    (() => {\n",
              "      let quickchartButtonEl =\n",
              "        document.querySelector('#df-5a04c01b-2753-4d9a-a4c9-de822a390568 button');\n",
              "      quickchartButtonEl.style.display =\n",
              "        google.colab.kernel.accessAllowed ? 'block' : 'none';\n",
              "    })();\n",
              "  </script>\n",
              "</div>\n",
              "\n",
              "    </div>\n",
              "  </div>\n"
            ]
          },
          "metadata": {},
          "execution_count": 21
        }
      ],
      "source": [
        "X.head()"
      ]
    },
    {
      "cell_type": "code",
      "execution_count": null,
      "metadata": {
        "id": "HIWWKzhW9IPP"
      },
      "outputs": [],
      "source": [
        "label=pd.DataFrame(label)"
      ]
    },
    {
      "cell_type": "code",
      "execution_count": null,
      "metadata": {
        "colab": {
          "base_uri": "https://localhost:8080/"
        },
        "id": "2lGYD3dEDWg-",
        "outputId": "1fafd72c-8e80-4be9-ad93-9c9498cb9ad3"
      },
      "outputs": [
        {
          "output_type": "execute_result",
          "data": {
            "text/plain": [
              "84"
            ]
          },
          "metadata": {},
          "execution_count": 23
        }
      ],
      "source": [
        "len(np.unique(label))"
      ]
    },
    {
      "cell_type": "code",
      "execution_count": null,
      "metadata": {
        "id": "_Gw80iNX83dr"
      },
      "outputs": [],
      "source": [
        "label.columns = ['y']"
      ]
    },
    {
      "cell_type": "code",
      "execution_count": null,
      "metadata": {
        "id": "xM1zny3583Xb"
      },
      "outputs": [],
      "source": [
        "data=[X,label]"
      ]
    },
    {
      "cell_type": "code",
      "execution_count": null,
      "metadata": {
        "id": "VZzLCVX_9SKE"
      },
      "outputs": [],
      "source": [
        "X_data=pd.concat(data,axis=1)"
      ]
    },
    {
      "cell_type": "code",
      "execution_count": null,
      "metadata": {
        "colab": {
          "base_uri": "https://localhost:8080/",
          "height": 342
        },
        "id": "Ymh01evG9SF6",
        "outputId": "666c4abf-6c1e-403a-db28-466e5f9bbb51"
      },
      "outputs": [
        {
          "output_type": "execute_result",
          "data": {
            "text/plain": [
              "              0         1         2             3         4         5  \\\n",
              "0  1.022647e-06  0.000089  0.000036 -1.767632e-05  0.000020  0.000032   \n",
              "1 -9.573832e-06 -0.000011  0.000124 -1.283500e-07  0.000041  0.000175   \n",
              "2  9.383871e-07  0.000017  0.000023  1.573883e-04 -0.000005  0.000023   \n",
              "3  7.349693e-06 -0.000028  0.000039  6.628978e-05  0.000011  0.000036   \n",
              "4  9.994254e-06 -0.000050  0.000009  3.485719e-05  0.000033  0.000008   \n",
              "\n",
              "          6         7             8         9  ...       247       248  \\\n",
              "0  0.000137 -0.000010 -3.194980e-05  0.000095  ...  0.000173 -0.000051   \n",
              "1  0.000035 -0.000003  6.473571e-07 -0.000003  ...  0.000051 -0.000071   \n",
              "2  0.000086  0.000037 -2.631534e-05  0.000095  ...  0.000163 -0.000004   \n",
              "3  0.000037 -0.000003  3.295221e-05  0.000017  ...  0.000219  0.000023   \n",
              "4 -0.000071 -0.000009  4.088332e-05  0.000082  ...  0.000003  0.000009   \n",
              "\n",
              "        249       250       251       252       253           254       255  \\\n",
              "0 -0.000022 -0.000003 -0.000005 -0.000018 -0.000011  6.062892e-06 -0.000152   \n",
              "1 -0.000013  0.000006  0.000004  0.000009  0.000023  8.192484e-07  0.000007   \n",
              "2 -0.000037 -0.000112 -0.000015  0.000031 -0.000003  2.132770e-05 -0.000088   \n",
              "3 -0.000073 -0.000024  0.000028  0.000005 -0.000074 -7.430767e-06  0.000006   \n",
              "4 -0.000045 -0.000010  0.000074  0.000144  0.000008 -1.255561e-06 -0.000085   \n",
              "\n",
              "      y  \n",
              "0  lion  \n",
              "1    ox  \n",
              "2  lion  \n",
              "3  lion  \n",
              "4  lion  \n",
              "\n",
              "[5 rows x 257 columns]"
            ],
            "text/html": [
              "\n",
              "  <div id=\"df-b559e4d9-1759-463a-90b3-42b0504e0b2c\" class=\"colab-df-container\">\n",
              "    <div>\n",
              "<style scoped>\n",
              "    .dataframe tbody tr th:only-of-type {\n",
              "        vertical-align: middle;\n",
              "    }\n",
              "\n",
              "    .dataframe tbody tr th {\n",
              "        vertical-align: top;\n",
              "    }\n",
              "\n",
              "    .dataframe thead th {\n",
              "        text-align: right;\n",
              "    }\n",
              "</style>\n",
              "<table border=\"1\" class=\"dataframe\">\n",
              "  <thead>\n",
              "    <tr style=\"text-align: right;\">\n",
              "      <th></th>\n",
              "      <th>0</th>\n",
              "      <th>1</th>\n",
              "      <th>2</th>\n",
              "      <th>3</th>\n",
              "      <th>4</th>\n",
              "      <th>5</th>\n",
              "      <th>6</th>\n",
              "      <th>7</th>\n",
              "      <th>8</th>\n",
              "      <th>9</th>\n",
              "      <th>...</th>\n",
              "      <th>247</th>\n",
              "      <th>248</th>\n",
              "      <th>249</th>\n",
              "      <th>250</th>\n",
              "      <th>251</th>\n",
              "      <th>252</th>\n",
              "      <th>253</th>\n",
              "      <th>254</th>\n",
              "      <th>255</th>\n",
              "      <th>y</th>\n",
              "    </tr>\n",
              "  </thead>\n",
              "  <tbody>\n",
              "    <tr>\n",
              "      <th>0</th>\n",
              "      <td>1.022647e-06</td>\n",
              "      <td>0.000089</td>\n",
              "      <td>0.000036</td>\n",
              "      <td>-1.767632e-05</td>\n",
              "      <td>0.000020</td>\n",
              "      <td>0.000032</td>\n",
              "      <td>0.000137</td>\n",
              "      <td>-0.000010</td>\n",
              "      <td>-3.194980e-05</td>\n",
              "      <td>0.000095</td>\n",
              "      <td>...</td>\n",
              "      <td>0.000173</td>\n",
              "      <td>-0.000051</td>\n",
              "      <td>-0.000022</td>\n",
              "      <td>-0.000003</td>\n",
              "      <td>-0.000005</td>\n",
              "      <td>-0.000018</td>\n",
              "      <td>-0.000011</td>\n",
              "      <td>6.062892e-06</td>\n",
              "      <td>-0.000152</td>\n",
              "      <td>lion</td>\n",
              "    </tr>\n",
              "    <tr>\n",
              "      <th>1</th>\n",
              "      <td>-9.573832e-06</td>\n",
              "      <td>-0.000011</td>\n",
              "      <td>0.000124</td>\n",
              "      <td>-1.283500e-07</td>\n",
              "      <td>0.000041</td>\n",
              "      <td>0.000175</td>\n",
              "      <td>0.000035</td>\n",
              "      <td>-0.000003</td>\n",
              "      <td>6.473571e-07</td>\n",
              "      <td>-0.000003</td>\n",
              "      <td>...</td>\n",
              "      <td>0.000051</td>\n",
              "      <td>-0.000071</td>\n",
              "      <td>-0.000013</td>\n",
              "      <td>0.000006</td>\n",
              "      <td>0.000004</td>\n",
              "      <td>0.000009</td>\n",
              "      <td>0.000023</td>\n",
              "      <td>8.192484e-07</td>\n",
              "      <td>0.000007</td>\n",
              "      <td>ox</td>\n",
              "    </tr>\n",
              "    <tr>\n",
              "      <th>2</th>\n",
              "      <td>9.383871e-07</td>\n",
              "      <td>0.000017</td>\n",
              "      <td>0.000023</td>\n",
              "      <td>1.573883e-04</td>\n",
              "      <td>-0.000005</td>\n",
              "      <td>0.000023</td>\n",
              "      <td>0.000086</td>\n",
              "      <td>0.000037</td>\n",
              "      <td>-2.631534e-05</td>\n",
              "      <td>0.000095</td>\n",
              "      <td>...</td>\n",
              "      <td>0.000163</td>\n",
              "      <td>-0.000004</td>\n",
              "      <td>-0.000037</td>\n",
              "      <td>-0.000112</td>\n",
              "      <td>-0.000015</td>\n",
              "      <td>0.000031</td>\n",
              "      <td>-0.000003</td>\n",
              "      <td>2.132770e-05</td>\n",
              "      <td>-0.000088</td>\n",
              "      <td>lion</td>\n",
              "    </tr>\n",
              "    <tr>\n",
              "      <th>3</th>\n",
              "      <td>7.349693e-06</td>\n",
              "      <td>-0.000028</td>\n",
              "      <td>0.000039</td>\n",
              "      <td>6.628978e-05</td>\n",
              "      <td>0.000011</td>\n",
              "      <td>0.000036</td>\n",
              "      <td>0.000037</td>\n",
              "      <td>-0.000003</td>\n",
              "      <td>3.295221e-05</td>\n",
              "      <td>0.000017</td>\n",
              "      <td>...</td>\n",
              "      <td>0.000219</td>\n",
              "      <td>0.000023</td>\n",
              "      <td>-0.000073</td>\n",
              "      <td>-0.000024</td>\n",
              "      <td>0.000028</td>\n",
              "      <td>0.000005</td>\n",
              "      <td>-0.000074</td>\n",
              "      <td>-7.430767e-06</td>\n",
              "      <td>0.000006</td>\n",
              "      <td>lion</td>\n",
              "    </tr>\n",
              "    <tr>\n",
              "      <th>4</th>\n",
              "      <td>9.994254e-06</td>\n",
              "      <td>-0.000050</td>\n",
              "      <td>0.000009</td>\n",
              "      <td>3.485719e-05</td>\n",
              "      <td>0.000033</td>\n",
              "      <td>0.000008</td>\n",
              "      <td>-0.000071</td>\n",
              "      <td>-0.000009</td>\n",
              "      <td>4.088332e-05</td>\n",
              "      <td>0.000082</td>\n",
              "      <td>...</td>\n",
              "      <td>0.000003</td>\n",
              "      <td>0.000009</td>\n",
              "      <td>-0.000045</td>\n",
              "      <td>-0.000010</td>\n",
              "      <td>0.000074</td>\n",
              "      <td>0.000144</td>\n",
              "      <td>0.000008</td>\n",
              "      <td>-1.255561e-06</td>\n",
              "      <td>-0.000085</td>\n",
              "      <td>lion</td>\n",
              "    </tr>\n",
              "  </tbody>\n",
              "</table>\n",
              "<p>5 rows × 257 columns</p>\n",
              "</div>\n",
              "    <div class=\"colab-df-buttons\">\n",
              "\n",
              "  <div class=\"colab-df-container\">\n",
              "    <button class=\"colab-df-convert\" onclick=\"convertToInteractive('df-b559e4d9-1759-463a-90b3-42b0504e0b2c')\"\n",
              "            title=\"Convert this dataframe to an interactive table.\"\n",
              "            style=\"display:none;\">\n",
              "\n",
              "  <svg xmlns=\"http://www.w3.org/2000/svg\" height=\"24px\" viewBox=\"0 -960 960 960\">\n",
              "    <path d=\"M120-120v-720h720v720H120Zm60-500h600v-160H180v160Zm220 220h160v-160H400v160Zm0 220h160v-160H400v160ZM180-400h160v-160H180v160Zm440 0h160v-160H620v160ZM180-180h160v-160H180v160Zm440 0h160v-160H620v160Z\"/>\n",
              "  </svg>\n",
              "    </button>\n",
              "\n",
              "  <style>\n",
              "    .colab-df-container {\n",
              "      display:flex;\n",
              "      gap: 12px;\n",
              "    }\n",
              "\n",
              "    .colab-df-convert {\n",
              "      background-color: #E8F0FE;\n",
              "      border: none;\n",
              "      border-radius: 50%;\n",
              "      cursor: pointer;\n",
              "      display: none;\n",
              "      fill: #1967D2;\n",
              "      height: 32px;\n",
              "      padding: 0 0 0 0;\n",
              "      width: 32px;\n",
              "    }\n",
              "\n",
              "    .colab-df-convert:hover {\n",
              "      background-color: #E2EBFA;\n",
              "      box-shadow: 0px 1px 2px rgba(60, 64, 67, 0.3), 0px 1px 3px 1px rgba(60, 64, 67, 0.15);\n",
              "      fill: #174EA6;\n",
              "    }\n",
              "\n",
              "    .colab-df-buttons div {\n",
              "      margin-bottom: 4px;\n",
              "    }\n",
              "\n",
              "    [theme=dark] .colab-df-convert {\n",
              "      background-color: #3B4455;\n",
              "      fill: #D2E3FC;\n",
              "    }\n",
              "\n",
              "    [theme=dark] .colab-df-convert:hover {\n",
              "      background-color: #434B5C;\n",
              "      box-shadow: 0px 1px 3px 1px rgba(0, 0, 0, 0.15);\n",
              "      filter: drop-shadow(0px 1px 2px rgba(0, 0, 0, 0.3));\n",
              "      fill: #FFFFFF;\n",
              "    }\n",
              "  </style>\n",
              "\n",
              "    <script>\n",
              "      const buttonEl =\n",
              "        document.querySelector('#df-b559e4d9-1759-463a-90b3-42b0504e0b2c button.colab-df-convert');\n",
              "      buttonEl.style.display =\n",
              "        google.colab.kernel.accessAllowed ? 'block' : 'none';\n",
              "\n",
              "      async function convertToInteractive(key) {\n",
              "        const element = document.querySelector('#df-b559e4d9-1759-463a-90b3-42b0504e0b2c');\n",
              "        const dataTable =\n",
              "          await google.colab.kernel.invokeFunction('convertToInteractive',\n",
              "                                                    [key], {});\n",
              "        if (!dataTable) return;\n",
              "\n",
              "        const docLinkHtml = 'Like what you see? Visit the ' +\n",
              "          '<a target=\"_blank\" href=https://colab.research.google.com/notebooks/data_table.ipynb>data table notebook</a>'\n",
              "          + ' to learn more about interactive tables.';\n",
              "        element.innerHTML = '';\n",
              "        dataTable['output_type'] = 'display_data';\n",
              "        await google.colab.output.renderOutput(dataTable, element);\n",
              "        const docLink = document.createElement('div');\n",
              "        docLink.innerHTML = docLinkHtml;\n",
              "        element.appendChild(docLink);\n",
              "      }\n",
              "    </script>\n",
              "  </div>\n",
              "\n",
              "\n",
              "<div id=\"df-4b1ac5ac-f1bb-45b3-b8e9-a896cc2d3bf5\">\n",
              "  <button class=\"colab-df-quickchart\" onclick=\"quickchart('df-4b1ac5ac-f1bb-45b3-b8e9-a896cc2d3bf5')\"\n",
              "            title=\"Suggest charts\"\n",
              "            style=\"display:none;\">\n",
              "\n",
              "<svg xmlns=\"http://www.w3.org/2000/svg\" height=\"24px\"viewBox=\"0 0 24 24\"\n",
              "     width=\"24px\">\n",
              "    <g>\n",
              "        <path d=\"M19 3H5c-1.1 0-2 .9-2 2v14c0 1.1.9 2 2 2h14c1.1 0 2-.9 2-2V5c0-1.1-.9-2-2-2zM9 17H7v-7h2v7zm4 0h-2V7h2v10zm4 0h-2v-4h2v4z\"/>\n",
              "    </g>\n",
              "</svg>\n",
              "  </button>\n",
              "\n",
              "<style>\n",
              "  .colab-df-quickchart {\n",
              "      --bg-color: #E8F0FE;\n",
              "      --fill-color: #1967D2;\n",
              "      --hover-bg-color: #E2EBFA;\n",
              "      --hover-fill-color: #174EA6;\n",
              "      --disabled-fill-color: #AAA;\n",
              "      --disabled-bg-color: #DDD;\n",
              "  }\n",
              "\n",
              "  [theme=dark] .colab-df-quickchart {\n",
              "      --bg-color: #3B4455;\n",
              "      --fill-color: #D2E3FC;\n",
              "      --hover-bg-color: #434B5C;\n",
              "      --hover-fill-color: #FFFFFF;\n",
              "      --disabled-bg-color: #3B4455;\n",
              "      --disabled-fill-color: #666;\n",
              "  }\n",
              "\n",
              "  .colab-df-quickchart {\n",
              "    background-color: var(--bg-color);\n",
              "    border: none;\n",
              "    border-radius: 50%;\n",
              "    cursor: pointer;\n",
              "    display: none;\n",
              "    fill: var(--fill-color);\n",
              "    height: 32px;\n",
              "    padding: 0;\n",
              "    width: 32px;\n",
              "  }\n",
              "\n",
              "  .colab-df-quickchart:hover {\n",
              "    background-color: var(--hover-bg-color);\n",
              "    box-shadow: 0 1px 2px rgba(60, 64, 67, 0.3), 0 1px 3px 1px rgba(60, 64, 67, 0.15);\n",
              "    fill: var(--button-hover-fill-color);\n",
              "  }\n",
              "\n",
              "  .colab-df-quickchart-complete:disabled,\n",
              "  .colab-df-quickchart-complete:disabled:hover {\n",
              "    background-color: var(--disabled-bg-color);\n",
              "    fill: var(--disabled-fill-color);\n",
              "    box-shadow: none;\n",
              "  }\n",
              "\n",
              "  .colab-df-spinner {\n",
              "    border: 2px solid var(--fill-color);\n",
              "    border-color: transparent;\n",
              "    border-bottom-color: var(--fill-color);\n",
              "    animation:\n",
              "      spin 1s steps(1) infinite;\n",
              "  }\n",
              "\n",
              "  @keyframes spin {\n",
              "    0% {\n",
              "      border-color: transparent;\n",
              "      border-bottom-color: var(--fill-color);\n",
              "      border-left-color: var(--fill-color);\n",
              "    }\n",
              "    20% {\n",
              "      border-color: transparent;\n",
              "      border-left-color: var(--fill-color);\n",
              "      border-top-color: var(--fill-color);\n",
              "    }\n",
              "    30% {\n",
              "      border-color: transparent;\n",
              "      border-left-color: var(--fill-color);\n",
              "      border-top-color: var(--fill-color);\n",
              "      border-right-color: var(--fill-color);\n",
              "    }\n",
              "    40% {\n",
              "      border-color: transparent;\n",
              "      border-right-color: var(--fill-color);\n",
              "      border-top-color: var(--fill-color);\n",
              "    }\n",
              "    60% {\n",
              "      border-color: transparent;\n",
              "      border-right-color: var(--fill-color);\n",
              "    }\n",
              "    80% {\n",
              "      border-color: transparent;\n",
              "      border-right-color: var(--fill-color);\n",
              "      border-bottom-color: var(--fill-color);\n",
              "    }\n",
              "    90% {\n",
              "      border-color: transparent;\n",
              "      border-bottom-color: var(--fill-color);\n",
              "    }\n",
              "  }\n",
              "</style>\n",
              "\n",
              "  <script>\n",
              "    async function quickchart(key) {\n",
              "      const quickchartButtonEl =\n",
              "        document.querySelector('#' + key + ' button');\n",
              "      quickchartButtonEl.disabled = true;  // To prevent multiple clicks.\n",
              "      quickchartButtonEl.classList.add('colab-df-spinner');\n",
              "      try {\n",
              "        const charts = await google.colab.kernel.invokeFunction(\n",
              "            'suggestCharts', [key], {});\n",
              "      } catch (error) {\n",
              "        console.error('Error during call to suggestCharts:', error);\n",
              "      }\n",
              "      quickchartButtonEl.classList.remove('colab-df-spinner');\n",
              "      quickchartButtonEl.classList.add('colab-df-quickchart-complete');\n",
              "    }\n",
              "    (() => {\n",
              "      let quickchartButtonEl =\n",
              "        document.querySelector('#df-4b1ac5ac-f1bb-45b3-b8e9-a896cc2d3bf5 button');\n",
              "      quickchartButtonEl.style.display =\n",
              "        google.colab.kernel.accessAllowed ? 'block' : 'none';\n",
              "    })();\n",
              "  </script>\n",
              "</div>\n",
              "\n",
              "    </div>\n",
              "  </div>\n"
            ]
          },
          "metadata": {},
          "execution_count": 27
        }
      ],
      "source": [
        "X_data.head()"
      ]
    },
    {
      "cell_type": "code",
      "execution_count": null,
      "metadata": {
        "id": "XNZpVz9O9SBs"
      },
      "outputs": [],
      "source": [
        "X_data[\"y\"]=X_data[\"y\"].astype('category')\n",
        "X_data[\"y\"]=X_data[\"y\"].cat.codes"
      ]
    },
    {
      "cell_type": "code",
      "execution_count": null,
      "metadata": {
        "colab": {
          "base_uri": "https://localhost:8080/"
        },
        "id": "-dnlV6faEmXY",
        "outputId": "b990a983-f4fa-4c1d-f05a-8f650d94ff25"
      },
      "outputs": [
        {
          "output_type": "execute_result",
          "data": {
            "text/plain": [
              "0      50\n",
              "1      58\n",
              "2      50\n",
              "3      50\n",
              "4      50\n",
              "       ..\n",
              "531    50\n",
              "532    50\n",
              "533    50\n",
              "534    50\n",
              "535    50\n",
              "Name: y, Length: 536, dtype: int8"
            ]
          },
          "metadata": {},
          "execution_count": 29
        }
      ],
      "source": [
        "X_data[\"y\"]"
      ]
    },
    {
      "cell_type": "markdown",
      "metadata": {
        "id": "Rf5_vbdKVHLU"
      },
      "source": [
        "## 5- Data preparation"
      ]
    },
    {
      "cell_type": "code",
      "execution_count": null,
      "metadata": {
        "id": "6naUcpcwVHBh"
      },
      "outputs": [],
      "source": [
        "from sklearn import preprocessing\n",
        "from sklearn.model_selection import train_test_split\n",
        "from  sklearn.preprocessing import StandardScaler,MinMaxScaler\n",
        "import matplotlib.pyplot as plt\n",
        "from tensorflow.keras.layers import  Dense, BatchNormalization, Activation, Add"
      ]
    },
    {
      "cell_type": "code",
      "execution_count": null,
      "metadata": {
        "id": "C0OBLtpIVG9-"
      },
      "outputs": [],
      "source": [
        "X=X_data.loc[:, X_data.columns != 'y']"
      ]
    },
    {
      "cell_type": "code",
      "execution_count": null,
      "metadata": {
        "id": "vLGQRTlhVG7e"
      },
      "outputs": [],
      "source": [
        "y=X_data['y']"
      ]
    },
    {
      "cell_type": "code",
      "execution_count": null,
      "metadata": {
        "id": "kqNIOsm5Nv3R"
      },
      "outputs": [],
      "source": [
        "scaler = MinMaxScaler()\n",
        "X=scaler.fit_transform(X)"
      ]
    },
    {
      "cell_type": "code",
      "execution_count": null,
      "metadata": {
        "id": "r5gWmtmqNOQj"
      },
      "outputs": [],
      "source": [
        "x_train, x_test, y_train, y_test = train_test_split(X,y, test_size=0.3, random_state=42)"
      ]
    },
    {
      "cell_type": "code",
      "execution_count": null,
      "metadata": {
        "colab": {
          "base_uri": "https://localhost:8080/"
        },
        "id": "nLG3dqDUVZXP",
        "outputId": "8f72413d-75a7-44d8-e8b4-6314ed440a17"
      },
      "outputs": [
        {
          "data": {
            "text/plain": [
              "(374, 256)"
            ]
          },
          "execution_count": 30,
          "metadata": {},
          "output_type": "execute_result"
        }
      ],
      "source": [
        "x_train.shape"
      ]
    },
    {
      "cell_type": "code",
      "execution_count": null,
      "metadata": {
        "id": "STiZk4pYOcla"
      },
      "outputs": [],
      "source": [
        "####################################\"\""
      ]
    },
    {
      "cell_type": "code",
      "execution_count": null,
      "metadata": {
        "id": "dO98W7bLOh_y"
      },
      "outputs": [],
      "source": []
    },
    {
      "cell_type": "markdown",
      "metadata": {
        "id": "kw-ZMhHEU7ll"
      },
      "source": [
        "## 6- Autoencoder classifier"
      ]
    },
    {
      "cell_type": "code",
      "execution_count": null,
      "metadata": {
        "id": "31ZaLe7kVkxH"
      },
      "outputs": [],
      "source": [
        "from tensorflow.keras.layers import Conv2D, Dense, BatchNormalization, Activation, MaxPool2D, GlobalAveragePooling2D, Add\n",
        "from tensorflow.keras import Model\n",
        "import tensorflow.keras as keras\n",
        "from keras import layers\n",
        "import tensorflow as tf\n",
        "from keras import regularizers"
      ]
    },
    {
      "cell_type": "code",
      "execution_count": null,
      "metadata": {
        "id": "TNQY_0Re9R9k"
      },
      "outputs": [],
      "source": [
        "encoding_dim=2\n",
        "input=X.shape[1]\n",
        "# Deep NN\n",
        "input_img = keras.Input(shape=(input,))\n",
        "encoded = layers.Dense(5000, activation='linear')(input_img)\n",
        "encoded = layers.Dense(3000, activation='linear')(encoded)\n",
        "encoded = layers.Dense(2000, activation='linear')(encoded)\n",
        "encoded = layers.Dense(1000, activation='linear')(encoded)\n",
        "\n",
        "encoded = layers.Dense(encoding_dim, activation='linear')(encoded)\n",
        "\n",
        "decoded = layers.Dense(1000, activation='linear')(encoded)\n",
        "decoded = layers.Dense(2000, activation='linear')(decoded)\n",
        "decoded = layers.Dense(3000, activation='linear')(decoded)\n",
        "decoded = layers.Dense(5000, activation='linear')(decoded)\n",
        "decoded = layers.Dense(X.shape[1], activation='sigmoid')(decoded)"
      ]
    },
    {
      "cell_type": "code",
      "execution_count": null,
      "metadata": {
        "id": "-zFdzLJGU7MX"
      },
      "outputs": [],
      "source": [
        "autoencoder = keras.Model(input_img, decoded)"
      ]
    },
    {
      "cell_type": "code",
      "execution_count": null,
      "metadata": {
        "colab": {
          "base_uri": "https://localhost:8080/"
        },
        "id": "wSAJ5mQvU7Iy",
        "outputId": "3c660c7f-2bfc-4744-8491-73cff735b0a5"
      },
      "outputs": [
        {
          "output_type": "stream",
          "name": "stdout",
          "text": [
            "Model: \"model_2\"\n",
            "_________________________________________________________________\n",
            " Layer (type)                Output Shape              Param #   \n",
            "=================================================================\n",
            " input_2 (InputLayer)        [(None, 256)]             0         \n",
            "                                                                 \n",
            " dense_10 (Dense)            (None, 5000)              1285000   \n",
            "                                                                 \n",
            " dense_11 (Dense)            (None, 3000)              15003000  \n",
            "                                                                 \n",
            " dense_12 (Dense)            (None, 2000)              6002000   \n",
            "                                                                 \n",
            " dense_13 (Dense)            (None, 1000)              2001000   \n",
            "                                                                 \n",
            " dense_14 (Dense)            (None, 2)                 2002      \n",
            "                                                                 \n",
            " dense_15 (Dense)            (None, 1000)              3000      \n",
            "                                                                 \n",
            " dense_16 (Dense)            (None, 2000)              2002000   \n",
            "                                                                 \n",
            " dense_17 (Dense)            (None, 3000)              6003000   \n",
            "                                                                 \n",
            " dense_18 (Dense)            (None, 5000)              15005000  \n",
            "                                                                 \n",
            " dense_19 (Dense)            (None, 256)               1280256   \n",
            "                                                                 \n",
            "=================================================================\n",
            "Total params: 48586258 (185.34 MB)\n",
            "Trainable params: 48586258 (185.34 MB)\n",
            "Non-trainable params: 0 (0.00 Byte)\n",
            "_________________________________________________________________\n"
          ]
        }
      ],
      "source": [
        "autoencoder.summary()"
      ]
    },
    {
      "cell_type": "code",
      "execution_count": null,
      "metadata": {
        "id": "Rj04zy9FV01W"
      },
      "outputs": [],
      "source": [
        "autoencoder.compile(optimizer='adam', loss='mse')"
      ]
    },
    {
      "cell_type": "code",
      "execution_count": null,
      "metadata": {
        "colab": {
          "base_uri": "https://localhost:8080/"
        },
        "id": "kQNWd4FnU7GQ",
        "outputId": "cfc16f13-be3c-4c52-ee0c-5d5401e9053e"
      },
      "outputs": [
        {
          "output_type": "stream",
          "name": "stdout",
          "text": [
            "Epoch 1/100\n",
            "3/3 [==============================] - 3s 420ms/step - loss: 0.0918\n",
            "Epoch 2/100\n",
            "3/3 [==============================] - 1s 409ms/step - loss: 0.3162\n",
            "Epoch 3/100\n",
            "3/3 [==============================] - 1s 368ms/step - loss: 0.2282\n",
            "Epoch 4/100\n",
            "3/3 [==============================] - 1s 364ms/step - loss: 0.2354\n",
            "Epoch 5/100\n",
            "3/3 [==============================] - 1s 358ms/step - loss: 0.2346\n",
            "Epoch 6/100\n",
            "3/3 [==============================] - 1s 363ms/step - loss: 0.2307\n",
            "Epoch 7/100\n",
            "3/3 [==============================] - 1s 366ms/step - loss: 0.2256\n",
            "Epoch 8/100\n",
            "3/3 [==============================] - 1s 368ms/step - loss: 0.2300\n",
            "Epoch 9/100\n",
            "3/3 [==============================] - 1s 358ms/step - loss: 0.2263\n",
            "Epoch 10/100\n",
            "3/3 [==============================] - 1s 359ms/step - loss: 0.2240\n",
            "Epoch 11/100\n",
            "3/3 [==============================] - 1s 402ms/step - loss: 0.2196\n",
            "Epoch 12/100\n",
            "3/3 [==============================] - 1s 404ms/step - loss: 0.2245\n",
            "Epoch 13/100\n",
            "3/3 [==============================] - 1s 402ms/step - loss: 0.2260\n",
            "Epoch 14/100\n",
            "3/3 [==============================] - 1s 363ms/step - loss: 0.2264\n",
            "Epoch 15/100\n",
            "3/3 [==============================] - 1s 364ms/step - loss: 0.2265\n",
            "Epoch 16/100\n",
            "3/3 [==============================] - 1s 364ms/step - loss: 0.2301\n",
            "Epoch 17/100\n",
            "3/3 [==============================] - 1s 359ms/step - loss: 0.2265\n",
            "Epoch 18/100\n",
            "3/3 [==============================] - 1s 366ms/step - loss: 0.2250\n",
            "Epoch 19/100\n",
            "3/3 [==============================] - 1s 365ms/step - loss: 0.2270\n",
            "Epoch 20/100\n",
            "3/3 [==============================] - 1s 364ms/step - loss: 0.2276\n",
            "Epoch 21/100\n",
            "3/3 [==============================] - 1s 366ms/step - loss: 0.2297\n",
            "Epoch 22/100\n",
            "3/3 [==============================] - 1s 396ms/step - loss: 0.2306\n",
            "Epoch 23/100\n",
            "3/3 [==============================] - 1s 403ms/step - loss: 0.2304\n",
            "Epoch 24/100\n",
            "3/3 [==============================] - 1s 403ms/step - loss: 0.2316\n",
            "Epoch 25/100\n",
            "3/3 [==============================] - 1s 367ms/step - loss: 0.2324\n",
            "Epoch 26/100\n",
            "3/3 [==============================] - 1s 369ms/step - loss: 0.2324\n",
            "Epoch 27/100\n",
            "3/3 [==============================] - 1s 370ms/step - loss: 0.2324\n",
            "Epoch 28/100\n",
            "3/3 [==============================] - 1s 366ms/step - loss: 0.2339\n",
            "Epoch 29/100\n",
            "3/3 [==============================] - 1s 363ms/step - loss: 0.2339\n",
            "Epoch 30/100\n",
            "3/3 [==============================] - 1s 359ms/step - loss: 0.2344\n",
            "Epoch 31/100\n",
            "3/3 [==============================] - 1s 363ms/step - loss: 0.2345\n",
            "Epoch 32/100\n",
            "3/3 [==============================] - 1s 362ms/step - loss: 0.2344\n",
            "Epoch 33/100\n",
            "3/3 [==============================] - 1s 390ms/step - loss: 0.2344\n",
            "Epoch 34/100\n",
            "3/3 [==============================] - 1s 407ms/step - loss: 0.2344\n",
            "Epoch 35/100\n",
            "3/3 [==============================] - 1s 403ms/step - loss: 0.2344\n",
            "Epoch 36/100\n",
            "3/3 [==============================] - 1s 367ms/step - loss: 0.2344\n",
            "Epoch 37/100\n",
            "3/3 [==============================] - 1s 359ms/step - loss: 0.2344\n",
            "Epoch 38/100\n",
            "3/3 [==============================] - 1s 356ms/step - loss: 0.2344\n",
            "Epoch 39/100\n",
            "3/3 [==============================] - 1s 356ms/step - loss: 0.2344\n",
            "Epoch 40/100\n",
            "3/3 [==============================] - 1s 362ms/step - loss: 0.2344\n",
            "Epoch 41/100\n",
            "3/3 [==============================] - 1s 355ms/step - loss: 0.2344\n",
            "Epoch 42/100\n",
            "3/3 [==============================] - 1s 358ms/step - loss: 0.2344\n",
            "Epoch 43/100\n",
            "3/3 [==============================] - 1s 364ms/step - loss: 0.2344\n",
            "Epoch 44/100\n",
            "3/3 [==============================] - 1s 397ms/step - loss: 0.2344\n",
            "Epoch 45/100\n",
            "3/3 [==============================] - 1s 406ms/step - loss: 0.2344\n",
            "Epoch 46/100\n",
            "3/3 [==============================] - 1s 395ms/step - loss: 0.2344\n",
            "Epoch 47/100\n",
            "3/3 [==============================] - 1s 364ms/step - loss: 0.2344\n",
            "Epoch 48/100\n",
            "3/3 [==============================] - 1s 366ms/step - loss: 0.2344\n",
            "Epoch 49/100\n",
            "3/3 [==============================] - 1s 375ms/step - loss: 0.2344\n",
            "Epoch 50/100\n",
            "3/3 [==============================] - 1s 368ms/step - loss: 0.2344\n",
            "Epoch 51/100\n",
            "3/3 [==============================] - 1s 363ms/step - loss: 0.2344\n",
            "Epoch 52/100\n",
            "3/3 [==============================] - 1s 359ms/step - loss: 0.2344\n",
            "Epoch 53/100\n",
            "3/3 [==============================] - 1s 358ms/step - loss: 0.2344\n",
            "Epoch 54/100\n",
            "3/3 [==============================] - 1s 354ms/step - loss: 0.2344\n",
            "Epoch 55/100\n",
            "3/3 [==============================] - 1s 391ms/step - loss: 0.2344\n",
            "Epoch 56/100\n",
            "3/3 [==============================] - 1s 409ms/step - loss: 0.2344\n",
            "Epoch 57/100\n",
            "3/3 [==============================] - 1s 383ms/step - loss: 0.2344\n",
            "Epoch 58/100\n",
            "3/3 [==============================] - 1s 350ms/step - loss: 0.2344\n",
            "Epoch 59/100\n",
            "3/3 [==============================] - 1s 347ms/step - loss: 0.2344\n",
            "Epoch 60/100\n",
            "3/3 [==============================] - 1s 352ms/step - loss: 0.2344\n",
            "Epoch 61/100\n",
            "3/3 [==============================] - 1s 457ms/step - loss: 0.2344\n",
            "Epoch 62/100\n",
            "3/3 [==============================] - 2s 433ms/step - loss: 0.2344\n",
            "Epoch 63/100\n",
            "3/3 [==============================] - 1s 361ms/step - loss: 0.2344\n",
            "Epoch 64/100\n",
            "3/3 [==============================] - 1s 371ms/step - loss: 0.2344\n",
            "Epoch 65/100\n",
            "3/3 [==============================] - 1s 391ms/step - loss: 0.2344\n",
            "Epoch 66/100\n",
            "3/3 [==============================] - 1s 438ms/step - loss: 0.2344\n",
            "Epoch 67/100\n",
            "3/3 [==============================] - 2s 446ms/step - loss: 0.2344\n",
            "Epoch 68/100\n",
            "3/3 [==============================] - 1s 393ms/step - loss: 0.2344\n",
            "Epoch 69/100\n",
            "3/3 [==============================] - 1s 368ms/step - loss: 0.2344\n",
            "Epoch 70/100\n",
            "3/3 [==============================] - 1s 366ms/step - loss: 0.2344\n",
            "Epoch 71/100\n",
            "3/3 [==============================] - 1s 361ms/step - loss: 0.2344\n",
            "Epoch 72/100\n",
            "3/3 [==============================] - 1s 372ms/step - loss: 0.2344\n",
            "Epoch 73/100\n",
            "3/3 [==============================] - 1s 373ms/step - loss: 0.2344\n",
            "Epoch 74/100\n",
            "3/3 [==============================] - 1s 360ms/step - loss: 0.2344\n",
            "Epoch 75/100\n",
            "3/3 [==============================] - 1s 372ms/step - loss: 0.2344\n",
            "Epoch 76/100\n",
            "3/3 [==============================] - 1s 392ms/step - loss: 0.2344\n",
            "Epoch 77/100\n",
            "3/3 [==============================] - 1s 409ms/step - loss: 0.2344\n",
            "Epoch 78/100\n",
            "3/3 [==============================] - 1s 399ms/step - loss: 0.2344\n",
            "Epoch 79/100\n",
            "3/3 [==============================] - 1s 362ms/step - loss: 0.2344\n",
            "Epoch 80/100\n",
            "3/3 [==============================] - 1s 364ms/step - loss: 0.2344\n",
            "Epoch 81/100\n",
            "3/3 [==============================] - 1s 372ms/step - loss: 0.2344\n",
            "Epoch 82/100\n",
            "3/3 [==============================] - 1s 379ms/step - loss: 0.2344\n",
            "Epoch 83/100\n",
            "3/3 [==============================] - 1s 371ms/step - loss: 0.2344\n",
            "Epoch 84/100\n",
            "3/3 [==============================] - 1s 366ms/step - loss: 0.2344\n",
            "Epoch 85/100\n",
            "3/3 [==============================] - 1s 371ms/step - loss: 0.2344\n",
            "Epoch 86/100\n",
            "3/3 [==============================] - 1s 374ms/step - loss: 0.2344\n",
            "Epoch 87/100\n",
            "3/3 [==============================] - 1s 400ms/step - loss: 0.2344\n",
            "Epoch 88/100\n",
            "3/3 [==============================] - 1s 392ms/step - loss: 0.2344\n",
            "Epoch 89/100\n",
            "3/3 [==============================] - 1s 379ms/step - loss: 0.2344\n",
            "Epoch 90/100\n",
            "3/3 [==============================] - 1s 358ms/step - loss: 0.2344\n",
            "Epoch 91/100\n",
            "3/3 [==============================] - 1s 358ms/step - loss: 0.2344\n",
            "Epoch 92/100\n",
            "3/3 [==============================] - 1s 369ms/step - loss: 0.2344\n",
            "Epoch 93/100\n",
            "3/3 [==============================] - 1s 376ms/step - loss: 0.2344\n",
            "Epoch 94/100\n",
            "3/3 [==============================] - 1s 351ms/step - loss: 0.2344\n",
            "Epoch 95/100\n",
            "3/3 [==============================] - 1s 364ms/step - loss: 0.2344\n",
            "Epoch 96/100\n",
            "3/3 [==============================] - 1s 361ms/step - loss: 0.2344\n",
            "Epoch 97/100\n",
            "3/3 [==============================] - 1s 378ms/step - loss: 0.2344\n",
            "Epoch 98/100\n",
            "3/3 [==============================] - 1s 403ms/step - loss: 0.2344\n",
            "Epoch 99/100\n",
            "3/3 [==============================] - 1s 412ms/step - loss: 0.2344\n",
            "Epoch 100/100\n",
            "3/3 [==============================] - 1s 370ms/step - loss: 0.2344\n"
          ]
        },
        {
          "output_type": "execute_result",
          "data": {
            "text/plain": [
              "<keras.src.callbacks.History at 0x7a6280ff1060>"
            ]
          },
          "metadata": {},
          "execution_count": 46
        }
      ],
      "source": [
        "autoencoder.fit(X, X,\n",
        "                epochs=100,\n",
        "                batch_size=256,\n",
        "                shuffle=True\n",
        "                )"
      ]
    },
    {
      "cell_type": "code",
      "execution_count": null,
      "metadata": {
        "colab": {
          "base_uri": "https://localhost:8080/"
        },
        "id": "nHSQcUgvV6r1",
        "outputId": "6fe9618b-6936-45b4-abb0-79742c140b6a"
      },
      "outputs": [
        {
          "output_type": "stream",
          "name": "stdout",
          "text": [
            "17/17 [==============================] - 0s 17ms/step\n"
          ]
        }
      ],
      "source": [
        "# Encode and decode some digits\n",
        "# Note that we take them from the *test* set\n",
        "# This model maps an input to its encoded representation\n",
        "encoder = keras.Model(input_img, encoded)\n",
        "encoded_imgs = encoder.predict(X)"
      ]
    },
    {
      "cell_type": "code",
      "execution_count": null,
      "metadata": {
        "colab": {
          "base_uri": "https://localhost:8080/",
          "height": 522
        },
        "id": "Lp35DPseU7E1",
        "outputId": "622e75e7-4986-4ec6-c208-b4d34f4d136d"
      },
      "outputs": [
        {
          "output_type": "display_data",
          "data": {
            "text/plain": [
              "<Figure size 600x600 with 2 Axes>"
            ],
            "image/png": "[encoded data removed]"
          },
          "metadata": {}
        }
      ],
      "source": [
        "plt.figure(figsize=(6, 6))\n",
        "plt.scatter(encoded_imgs[:, 0], encoded_imgs[:, 1], c=y)\n",
        "plt.colorbar()\n",
        "plt.show()"
      ]
    },
    {
      "cell_type": "code",
      "execution_count": null,
      "metadata": {
        "id": "RUS8LLQC9nnq"
      },
      "outputs": [],
      "source": []
    },
    {
      "cell_type": "markdown",
      "metadata": {
        "id": "IWAzfJQRDpaH"
      },
      "source": [
        "### Extreme pointes bellow"
      ]
    },
    {
      "cell_type": "code",
      "execution_count": null,
      "metadata": {
        "colab": {
          "base_uri": "https://localhost:8080/"
        },
        "id": "PemPDKCEyRDX",
        "outputId": "a29fc0b5-5d6f-488b-c3c9-a9be5ee68bc9"
      },
      "outputs": [
        {
          "output_type": "execute_result",
          "data": {
            "text/plain": [
              "(array([ 21, 125, 251, 389, 451]),)"
            ]
          },
          "metadata": {},
          "execution_count": 51
        }
      ],
      "source": [
        "np.where(encoded_imgs[:,1]<-18200)"
      ]
    },
    {
      "cell_type": "markdown",
      "metadata": {
        "id": "rPp50lNIDtDa"
      },
      "source": [
        "### middle point"
      ]
    },
    {
      "cell_type": "code",
      "execution_count": null,
      "metadata": {
        "colab": {
          "base_uri": "https://localhost:8080/"
        },
        "id": "nbTK3HbbCruS",
        "outputId": "80dab78d-52ae-42ef-b2ee-30acbf763042"
      },
      "outputs": [
        {
          "output_type": "execute_result",
          "data": {
            "text/plain": [
              "(array([ 15,  64, 101, 144, 173, 193, 224, 225, 232, 339, 347, 379, 384,\n",
              "        386, 403, 476, 491, 515, 520, 528]),)"
            ]
          },
          "metadata": {},
          "execution_count": 52
        }
      ],
      "source": [
        "np.where((encoded_imgs[:,1]>-17350) & (encoded_imgs[:,1]<-17300))"
      ]
    },
    {
      "cell_type": "markdown",
      "metadata": {
        "id": "_WhzNvbhECBu"
      },
      "source": [
        "### Extreme point above"
      ]
    },
    {
      "cell_type": "code",
      "execution_count": null,
      "metadata": {
        "colab": {
          "base_uri": "https://localhost:8080/"
        },
        "id": "JAtq1IV5CZ_8",
        "outputId": "9127cacf-ab6e-427f-c267-5560443dd26f"
      },
      "outputs": [
        {
          "output_type": "execute_result",
          "data": {
            "text/plain": [
              "(array([  6,   8,  32, 154, 163, 165, 212, 235, 275, 436]),)"
            ]
          },
          "metadata": {},
          "execution_count": 55
        }
      ],
      "source": [
        "np.where(encoded_imgs[:,1]>-16400 )"
      ]
    },
    {
      "cell_type": "markdown",
      "metadata": {
        "id": "OIJ4Td2rqIsw"
      },
      "source": [
        "## Study 3: Analyzis of high-level Concept Detected by developing new CNN model"
      ]
    },
    {
      "cell_type": "code",
      "execution_count": null,
      "metadata": {
        "id": "SwgMPqhFQaqy"
      },
      "outputs": [],
      "source": [
        "insight_concept=np.column_stack((X_data[\"y\"],label,encoded_imgs[:,0],encoded_imgs[:,1]))"
      ]
    },
    {
      "cell_type": "code",
      "execution_count": null,
      "metadata": {
        "id": "JiB9SwjsTN4g"
      },
      "outputs": [],
      "source": [
        "# Save the DataFrame to a CSV file\n",
        "insight_concept=pd.DataFrame(insight_concept)\n",
        "insight_concept.to_csv('/content/insight_concept.csv', index=False)"
      ]
    },
    {
      "cell_type": "code",
      "execution_count": null,
      "metadata": {
        "id": "b7t3JL7h_quF"
      },
      "outputs": [],
      "source": [
        "#initialize target\n",
        "target=[1]*536"
      ]
    },
    {
      "cell_type": "code",
      "execution_count": null,
      "metadata": {
        "id": "4ZuV7pAfjSO-"
      },
      "outputs": [],
      "source": [
        "#get ranks for group 1\n",
        "group_1=np.where((encoded_imgs[:,1]<=-17487) )"
      ]
    },
    {
      "cell_type": "code",
      "execution_count": null,
      "metadata": {
        "colab": {
          "base_uri": "https://localhost:8080/"
        },
        "id": "YK3Tnv_ojSKw",
        "outputId": "cd00f191-a9cf-4658-892c-35f919b65080"
      },
      "outputs": [
        {
          "output_type": "execute_result",
          "data": {
            "text/plain": [
              "(array([ 11,  14,  19,  21,  24,  26,  28,  29,  39,  42,  45,  48,  58,\n",
              "         59,  60,  65,  66,  67,  70,  72,  80,  84,  89,  93,  94,  99,\n",
              "        100, 123, 125, 131, 139, 141, 143, 145, 146, 151, 152, 153, 158,\n",
              "        159, 167, 171, 172, 179, 180, 181, 183, 184, 194, 196, 198, 199,\n",
              "        200, 203, 205, 208, 217, 228, 229, 233, 234, 239, 245, 247, 249,\n",
              "        250, 251, 253, 258, 260, 271, 274, 276, 277, 280, 284, 289, 291,\n",
              "        293, 294, 296, 303, 320, 321, 323, 329, 334, 349, 356, 357, 364,\n",
              "        368, 369, 370, 375, 376, 382, 389, 396, 400, 410, 414, 418, 422,\n",
              "        427, 429, 430, 433, 437, 438, 442, 447, 451, 457, 461, 463, 465,\n",
              "        466, 467, 468, 473, 484, 487, 489, 490, 493, 495, 498, 501, 511,\n",
              "        517, 527, 533, 535]),)"
            ]
          },
          "metadata": {},
          "execution_count": 63
        }
      ],
      "source": [
        "group_1"
      ]
    },
    {
      "cell_type": "code",
      "execution_count": null,
      "metadata": {
        "id": "Mvh16bAfjSH7"
      },
      "outputs": [],
      "source": [
        "#get ranks for group 2\n",
        "group_2=np.where((encoded_imgs[:,1]<=-17187) & (encoded_imgs[:,1]>-17487)  )"
      ]
    },
    {
      "cell_type": "code",
      "execution_count": null,
      "metadata": {
        "colab": {
          "base_uri": "https://localhost:8080/"
        },
        "id": "OUSLquLOkU6j",
        "outputId": "ede38c2c-aca9-4748-8243-57564ccff3e0"
      },
      "outputs": [
        {
          "output_type": "execute_result",
          "data": {
            "text/plain": [
              "(array([  2,   5,  10,  15,  23,  30,  35,  36,  37,  41,  47,  49,  52,\n",
              "         53,  55,  64,  73,  83,  86,  87,  90,  91,  92,  97,  98, 101,\n",
              "        104, 107, 109, 110, 113, 114, 115, 118, 132, 136, 142, 144, 164,\n",
              "        173, 177, 189, 190, 193, 197, 204, 207, 211, 213, 214, 219, 224,\n",
              "        225, 226, 232, 241, 242, 244, 252, 255, 257, 259, 263, 266, 267,\n",
              "        268, 269, 282, 297, 305, 310, 314, 317, 319, 322, 324, 325, 330,\n",
              "        335, 339, 341, 347, 348, 350, 354, 363, 367, 371, 372, 373, 379,\n",
              "        381, 384, 386, 390, 392, 397, 402, 403, 406, 411, 415, 417, 419,\n",
              "        421, 425, 439, 443, 446, 452, 460, 462, 471, 472, 476, 480, 483,\n",
              "        486, 491, 492, 499, 503, 506, 509, 510, 515, 519, 520, 524, 528,\n",
              "        532, 534]),)"
            ]
          },
          "metadata": {},
          "execution_count": 65
        }
      ],
      "source": [
        "group_2"
      ]
    },
    {
      "cell_type": "code",
      "execution_count": null,
      "metadata": {
        "id": "Vuc0rjlDkU4G"
      },
      "outputs": [],
      "source": [
        "#get ranks for group 3\n",
        "group_3=np.where((encoded_imgs[:,1]<=-16934) & (encoded_imgs[:,1]>-17187)  )"
      ]
    },
    {
      "cell_type": "code",
      "execution_count": null,
      "metadata": {
        "colab": {
          "base_uri": "https://localhost:8080/"
        },
        "id": "Ey_q11EwkU1Y",
        "outputId": "bd638a81-5bab-463e-a02d-6c8b13ecb8e6"
      },
      "outputs": [
        {
          "output_type": "execute_result",
          "data": {
            "text/plain": [
              "(array([  0,  16,  17,  22,  25,  31,  40,  43,  44,  46,  50,  51,  54,\n",
              "         57,  62,  68,  69,  75,  82,  95,  96, 102, 103, 105, 106, 111,\n",
              "        117, 119, 120, 122, 126, 130, 134, 135, 138, 147, 148, 149, 155,\n",
              "        157, 160, 161, 162, 169, 174, 182, 191, 192, 195, 201, 206, 209,\n",
              "        210, 222, 236, 240, 248, 254, 256, 262, 265, 270, 273, 278, 279,\n",
              "        281, 283, 285, 287, 288, 290, 292, 298, 300, 301, 302, 304, 307,\n",
              "        308, 309, 316, 318, 326, 328, 333, 336, 337, 338, 342, 343, 344,\n",
              "        346, 355, 360, 361, 366, 378, 388, 393, 394, 401, 405, 407, 408,\n",
              "        416, 420, 423, 428, 431, 435, 444, 445, 449, 450, 453, 454, 455,\n",
              "        456, 459, 464, 475, 477, 482, 485, 488, 494, 497, 500, 502, 504,\n",
              "        516, 518, 526, 529, 531]),)"
            ]
          },
          "metadata": {},
          "execution_count": 67
        }
      ],
      "source": [
        "group_3"
      ]
    },
    {
      "cell_type": "code",
      "execution_count": null,
      "metadata": {
        "id": "NBRc2sC-kUyi"
      },
      "outputs": [],
      "source": [
        "#get ranks for group 4\n",
        "group_4=np.where((encoded_imgs[:,1]>-16934) )"
      ]
    },
    {
      "cell_type": "code",
      "execution_count": null,
      "metadata": {
        "colab": {
          "base_uri": "https://localhost:8080/"
        },
        "id": "l7n97iavkUvj",
        "outputId": "0748f27f-9334-4042-9488-caee35ffa2c7"
      },
      "outputs": [
        {
          "output_type": "execute_result",
          "data": {
            "text/plain": [
              "(array([  1,   3,   4,   6,   7,   8,   9,  12,  13,  18,  20,  27,  32,\n",
              "         33,  34,  38,  56,  61,  63,  71,  74,  76,  77,  78,  79,  81,\n",
              "         85,  88, 108, 112, 116, 121, 124, 127, 128, 129, 133, 137, 140,\n",
              "        150, 154, 156, 163, 165, 166, 168, 170, 175, 176, 178, 185, 186,\n",
              "        187, 188, 202, 212, 215, 216, 218, 220, 221, 223, 227, 230, 231,\n",
              "        235, 237, 238, 243, 246, 261, 264, 272, 275, 286, 295, 299, 306,\n",
              "        311, 312, 313, 315, 327, 331, 332, 340, 345, 351, 352, 353, 358,\n",
              "        359, 362, 365, 374, 377, 380, 383, 385, 387, 391, 395, 398, 399,\n",
              "        404, 409, 412, 413, 424, 426, 432, 434, 436, 440, 441, 448, 458,\n",
              "        469, 470, 474, 478, 479, 481, 496, 505, 507, 508, 512, 513, 514,\n",
              "        521, 522, 523, 525, 530]),)"
            ]
          },
          "metadata": {},
          "execution_count": 69
        }
      ],
      "source": [
        "group_4"
      ]
    },
    {
      "cell_type": "markdown",
      "metadata": {
        "id": "plhQs4uLn9C4"
      },
      "source": [
        "## Create New Target"
      ]
    },
    {
      "cell_type": "code",
      "execution_count": null,
      "metadata": {
        "id": "bpi27_BN-Vu4"
      },
      "outputs": [],
      "source": [
        "target=np.empty(536)\n",
        "target.fill(1)"
      ]
    },
    {
      "cell_type": "code",
      "execution_count": null,
      "metadata": {
        "id": "IVWm6QoE9kZN"
      },
      "outputs": [],
      "source": [
        "target=target.astype(str)"
      ]
    },
    {
      "cell_type": "code",
      "execution_count": null,
      "metadata": {
        "id": "RtbDfx-T-ag0"
      },
      "outputs": [],
      "source": [
        "for i in group_1:\n",
        "  target[i]='group1'"
      ]
    },
    {
      "cell_type": "code",
      "execution_count": null,
      "metadata": {
        "id": "2wqc3PddnbvK"
      },
      "outputs": [],
      "source": [
        "for i in group_2:\n",
        "  target[i]='group2'"
      ]
    },
    {
      "cell_type": "code",
      "execution_count": null,
      "metadata": {
        "id": "RtBjE7fpnbr1"
      },
      "outputs": [],
      "source": [
        "for i in group_3:\n",
        "  target[i]='group3'"
      ]
    },
    {
      "cell_type": "code",
      "execution_count": null,
      "metadata": {
        "id": "unGWGPF2nbZp"
      },
      "outputs": [],
      "source": [
        "for i in group_4:\n",
        "  target[i]='group4'"
      ]
    },
    {
      "cell_type": "code",
      "execution_count": null,
      "metadata": {
        "id": "5iOAMMpu8UbY"
      },
      "outputs": [],
      "source": [
        "import os\n",
        "import pandas as pd\n",
        "from PIL import Image\n",
        "import numpy as np\n",
        "from sklearn.model_selection import train_test_split\n",
        "from sklearn.preprocessing import LabelEncoder\n",
        "from sklearn.utils import shuffle\n",
        "import tensorflow as tf\n",
        "from tensorflow.keras import layers, models"
      ]
    },
    {
      "cell_type": "code",
      "execution_count": null,
      "metadata": {
        "id": "K9qZwJoP8Xvz"
      },
      "outputs": [],
      "source": [
        "image_folder = '/content'"
      ]
    },
    {
      "cell_type": "code",
      "execution_count": null,
      "metadata": {
        "id": "nkHmo4B0LSYt"
      },
      "outputs": [],
      "source": [
        "# Create lists to store images and labels\n",
        "images = []\n",
        "\n",
        "# Iterate over the images in the folder\n",
        "for filename in os.listdir(image_folder):\n",
        "    if filename.endswith(\".jpg\"):  # Change the file extension accordingly\n",
        "        # Load and preprocess the image\n",
        "        img_path = os.path.join(image_folder, filename)\n",
        "        img = Image.open(img_path).resize((64, 64))  # Resize the image if needed\n",
        "        img_array = np.array(img) / 255.0  # Normalize pixel values to be between 0 and 1\n",
        "        images.append(img_array)"
      ]
    },
    {
      "cell_type": "code",
      "source": [
        "#Other way to proceed image load\n",
        "# Create lists to store images and labels\n",
        "images = []\n",
        "\n",
        "# Iterate over the images in the folder\n",
        "for i in range(1,537):\n",
        "  # Load and preprocess the image\n",
        "  img_path = os.path.join('/content/', 'animal_'+str(i)+'.jpg')\n",
        "  img = Image.open(img_path).resize((64, 64))  # Resize the image if needed\n",
        "  img_array = np.array(img) / 255.0  # Normalize pixel values to be between 0 and 1\n",
        "  images.append(img_array)\n"
      ],
      "metadata": {
        "id": "U7rzeQHXO2Gh"
      },
      "execution_count": null,
      "outputs": []
    },
    {
      "cell_type": "code",
      "execution_count": null,
      "metadata": {
        "id": "gPBy2aquLST8"
      },
      "outputs": [],
      "source": [
        "# Encode labels to numerical values\n",
        "label_encoder = LabelEncoder()\n",
        "labels_encoded = label_encoder.fit_transform(target)"
      ]
    },
    {
      "cell_type": "code",
      "execution_count": null,
      "metadata": {
        "id": "XZhVeKa8857E"
      },
      "outputs": [],
      "source": [
        "# Shuffle the data\n",
        "images, labels_encoded = shuffle(images, labels_encoded, random_state=42)"
      ]
    },
    {
      "cell_type": "code",
      "execution_count": null,
      "metadata": {
        "id": "c90h6lSW_qC3"
      },
      "outputs": [],
      "source": [
        "images=np.asarray(images)"
      ]
    },
    {
      "cell_type": "code",
      "execution_count": null,
      "metadata": {
        "id": "KQwTXS-q_CpK"
      },
      "outputs": [],
      "source": [
        "# Split the data into training and testing sets\n",
        "X_train, X_test, y_train, y_test = train_test_split(images, labels_encoded, test_size=0.2, random_state=42)\n"
      ]
    },
    {
      "cell_type": "code",
      "execution_count": null,
      "metadata": {
        "colab": {
          "base_uri": "https://localhost:8080/"
        },
        "id": "PQptLdqUSQGk",
        "outputId": "aaca3829-1c4d-478c-b420-9d4a63f4913d"
      },
      "outputs": [
        {
          "output_type": "stream",
          "name": "stdout",
          "text": [
            "Model: \"sequential_1\"\n",
            "_________________________________________________________________\n",
            " Layer (type)                Output Shape              Param #   \n",
            "=================================================================\n",
            " conv2d_3 (Conv2D)           (None, 62, 62, 32)        896       \n",
            "                                                                 \n",
            " max_pooling2d_2 (MaxPoolin  (None, 31, 31, 32)        0         \n",
            " g2D)                                                            \n",
            "                                                                 \n",
            " conv2d_4 (Conv2D)           (None, 29, 29, 64)        18496     \n",
            "                                                                 \n",
            " max_pooling2d_3 (MaxPoolin  (None, 14, 14, 64)        0         \n",
            " g2D)                                                            \n",
            "                                                                 \n",
            " conv2d_5 (Conv2D)           (None, 12, 12, 64)        36928     \n",
            "                                                                 \n",
            " flatten_1 (Flatten)         (None, 9216)              0         \n",
            "                                                                 \n",
            " dense_22 (Dense)            (None, 64)                589888    \n",
            "                                                                 \n",
            " dense_23 (Dense)            (None, 4)                 260       \n",
            "                                                                 \n",
            "=================================================================\n",
            "Total params: 646468 (2.47 MB)\n",
            "Trainable params: 646468 (2.47 MB)\n",
            "Non-trainable params: 0 (0.00 Byte)\n",
            "_________________________________________________________________\n"
          ]
        }
      ],
      "source": [
        "import tensorflow as tf\n",
        "from tensorflow.keras import layers, models\n",
        "\n",
        "# Define the CNN model\n",
        "model = models.Sequential()\n",
        "\n",
        "# Convolutional layers\n",
        "model.add(layers.Conv2D(32, (3, 3), activation='relu', input_shape=(64, 64, 3)))\n",
        "model.add(layers.MaxPooling2D((2, 2)))\n",
        "\n",
        "model.add(layers.Conv2D(64, (3, 3), activation='relu'))\n",
        "model.add(layers.MaxPooling2D((2, 2)))\n",
        "\n",
        "model.add(layers.Conv2D(64, (3, 3), activation='relu'))\n",
        "\n",
        "# Fully connected layers\n",
        "model.add(layers.Flatten())\n",
        "model.add(layers.Dense(64, activation='relu'))\n",
        "model.add(layers.Dense(4, activation='softmax'))  # Assuming 4 classes for classification\n",
        "\n",
        "# Compile the model\n",
        "model.compile(optimizer='adam',\n",
        "              loss='sparse_categorical_crossentropy',  # Use 'categorical_crossentropy' if one-hot encoding is used\n",
        "              metrics=['accuracy'])\n",
        "\n",
        "# Display the model summary\n",
        "model.summary()\n"
      ]
    },
    {
      "cell_type": "code",
      "execution_count": null,
      "metadata": {
        "id": "h_ToTCIaFD32"
      },
      "outputs": [],
      "source": [
        "# Set up early stopping\n",
        "from keras.callbacks import EarlyStopping\n",
        "\n",
        "early_stopping = EarlyStopping(\n",
        "    monitor='val_loss',\n",
        "    patience=5,\n",
        "    restore_best_weights=True\n",
        ")\n"
      ]
    },
    {
      "cell_type": "code",
      "execution_count": null,
      "metadata": {
        "colab": {
          "base_uri": "https://localhost:8080/"
        },
        "id": "jBREuEXb-nfU",
        "outputId": "04a6e974-f4bb-434f-fa0f-edd6598703ab"
      },
      "outputs": [
        {
          "output_type": "stream",
          "name": "stdout",
          "text": [
            "Epoch 1/50\n",
            "14/14 [==============================] - 2s 71ms/step - loss: 1.4082 - accuracy: 0.2266 - val_loss: 1.3818 - val_accuracy: 0.2778\n",
            "Epoch 2/50\n",
            "14/14 [==============================] - 1s 58ms/step - loss: 1.3823 - accuracy: 0.2874 - val_loss: 1.3863 - val_accuracy: 0.2685\n",
            "Epoch 3/50\n",
            "14/14 [==============================] - 1s 58ms/step - loss: 1.3821 - accuracy: 0.2710 - val_loss: 1.3993 - val_accuracy: 0.2407\n",
            "Epoch 4/50\n",
            "14/14 [==============================] - 1s 57ms/step - loss: 1.3712 - accuracy: 0.2944 - val_loss: 1.3889 - val_accuracy: 0.2037\n",
            "Epoch 5/50\n",
            "14/14 [==============================] - 1s 51ms/step - loss: 1.3374 - accuracy: 0.3411 - val_loss: 1.3674 - val_accuracy: 0.3704\n",
            "Epoch 6/50\n",
            "14/14 [==============================] - 1s 51ms/step - loss: 1.3517 - accuracy: 0.3411 - val_loss: 1.3672 - val_accuracy: 0.3241\n",
            "Epoch 7/50\n",
            "14/14 [==============================] - 1s 51ms/step - loss: 1.2935 - accuracy: 0.4393 - val_loss: 1.4235 - val_accuracy: 0.2870\n",
            "Epoch 8/50\n",
            "14/14 [==============================] - 1s 51ms/step - loss: 1.2302 - accuracy: 0.4416 - val_loss: 1.4300 - val_accuracy: 0.3056\n",
            "Epoch 9/50\n",
            "14/14 [==============================] - 1s 52ms/step - loss: 1.1327 - accuracy: 0.5070 - val_loss: 1.4047 - val_accuracy: 0.3519\n",
            "Epoch 10/50\n",
            "14/14 [==============================] - 1s 51ms/step - loss: 1.0175 - accuracy: 0.5701 - val_loss: 1.4676 - val_accuracy: 0.2870\n",
            "Epoch 11/50\n",
            "14/14 [==============================] - 1s 52ms/step - loss: 0.9561 - accuracy: 0.6168 - val_loss: 1.5179 - val_accuracy: 0.3148\n"
          ]
        },
        {
          "output_type": "execute_result",
          "data": {
            "text/plain": [
              "<keras.src.callbacks.History at 0x7a626bf6e170>"
            ]
          },
          "metadata": {},
          "execution_count": 98
        }
      ],
      "source": [
        "# Train the model\n",
        "model.fit(X_train, y_train, epochs=50, batch_size=32, validation_data=(X_test, y_test),\n",
        "          callbacks=[early_stopping])"
      ]
    },
    {
      "cell_type": "code",
      "execution_count": null,
      "metadata": {
        "colab": {
          "base_uri": "https://localhost:8080/"
        },
        "id": "eleIc-aG-ncq",
        "outputId": "b6d83514-af4a-4d99-98e4-f70858def4cf"
      },
      "outputs": [
        {
          "output_type": "execute_result",
          "data": {
            "text/plain": [
              "<keras.src.engine.sequential.Sequential at 0x7a6280483e20>"
            ]
          },
          "metadata": {},
          "execution_count": 88
        }
      ],
      "source": [
        "model"
      ]
    },
    {
      "cell_type": "markdown",
      "metadata": {
        "id": "O0IKinDCRp3c"
      },
      "source": [
        "## Explain High-level Concept"
      ]
    },
    {
      "cell_type": "code",
      "execution_count": null,
      "metadata": {
        "id": "SklA5A9GRpkX"
      },
      "outputs": [],
      "source": [
        "import torchvision\n",
        "from torchvision import models\n",
        "from torchvision import transforms\n",
        "\n",
        "from captum.attr import IntegratedGradients\n",
        "from captum.attr import GradientShap\n",
        "from captum.attr import LRP\n",
        "from captum.attr import Occlusion\n",
        "from captum.attr import NoiseTunnel\n",
        "from captum.attr import visualization as viz\n",
        "from captum.attr._utils.lrp_rules import EpsilonRule, GammaRule, Alpha1_Beta0_Rule"
      ]
    },
    {
      "cell_type": "code",
      "execution_count": null,
      "metadata": {
        "id": "5EIouECFRpi3"
      },
      "outputs": [],
      "source": [
        "transform = transforms.Compose([\n",
        " transforms.Resize(256),\n",
        " transforms.CenterCrop(224),\n",
        " transforms.ToTensor()\n",
        "])\n",
        "\n",
        "transform_normalize = transforms.Normalize(\n",
        "     mean=[0.485, 0.456, 0.406],\n",
        "     std=[0.229, 0.224, 0.225]\n",
        " )\n",
        "\n",
        "img = Image.open('/content/animal_3.jpg')\n",
        "\n",
        "transformed_img = transform(img)\n",
        "\n",
        "input = transform_normalize(transformed_img)\n",
        "input = input.unsqueeze(0)"
      ]
    },
    {
      "cell_type": "code",
      "execution_count": null,
      "metadata": {
        "id": "w10fUYYSeCAP"
      },
      "outputs": [],
      "source": []
    },
    {
      "cell_type": "code",
      "execution_count": null,
      "metadata": {
        "id": "q_0L-4n8eB9B"
      },
      "outputs": [],
      "source": []
    },
    {
      "cell_type": "code",
      "execution_count": null,
      "metadata": {
        "colab": {
          "base_uri": "https://localhost:8080/"
        },
        "id": "wTFR1qcjwSad",
        "outputId": "31487aeb-8e4e-46cd-8d98-ab941d89c34b"
      },
      "outputs": [
        {
          "output_type": "stream",
          "name": "stdout",
          "text": [
            "Collecting tf-explain\n",
            "  Downloading tf_explain-0.3.1-py3-none-any.whl (43 kB)\n",
            "\u001b[?25l     \u001b[90m━━━━━━━━━━━━━━━━━━━━━━━━━━━━━━━━━━━━━━━━\u001b[0m \u001b[32m0.0/43.6 kB\u001b[0m \u001b[31m?\u001b[0m eta \u001b[36m-:--:--\u001b[0m\r\u001b[2K     \u001b[91m━━━━━━━━━━━━━━━━━━━━━━━━━━━━\u001b[0m\u001b[90m╺\u001b[0m\u001b[90m━━━━━━━━━━━\u001b[0m \u001b[32m30.7/43.6 kB\u001b[0m \u001b[31m849.0 kB/s\u001b[0m eta \u001b[36m0:00:01\u001b[0m\r\u001b[2K     \u001b[90m━━━━━━━━━━━━━━━━━━━━━━━━━━━━━━━━━━━━━━━━\u001b[0m \u001b[32m43.6/43.6 kB\u001b[0m \u001b[31m790.8 kB/s\u001b[0m eta \u001b[36m0:00:00\u001b[0m\n",
            "\u001b[?25hInstalling collected packages: tf-explain\n",
            "Successfully installed tf-explain-0.3.1\n"
          ]
        }
      ],
      "source": [
        "pip install tf-explain"
      ]
    },
    {
      "cell_type": "code",
      "execution_count": null,
      "metadata": {
        "id": "Ec0OjvNrEDM6"
      },
      "outputs": [],
      "source": [
        "from tf_explain.callbacks.grad_cam import GradCAM"
      ]
    },
    {
      "cell_type": "markdown",
      "metadata": {
        "id": "VJjvCaaBju3A"
      },
      "source": [
        "### GradCam: An example"
      ]
    },
    {
      "cell_type": "code",
      "execution_count": null,
      "metadata": {
        "id": "-KrL22DXwSVZ"
      },
      "outputs": [],
      "source": [
        "# Load pretrained model or your own\n",
        "model = tf.keras.applications.vgg16.VGG16(weights=\"imagenet\", include_top=True)\n",
        "\n",
        "# Load a sample image (or multiple ones)\n",
        "img = tf.keras.preprocessing.image.load_img('/content/animal_3.jpg', target_size=(224, 224))\n",
        "img = tf.keras.preprocessing.image.img_to_array(img)\n",
        "data = ([img], None)\n",
        "\n",
        "# Start explainer\n",
        "explainer = GradCAM()\n",
        "grid = explainer.explain(data, model, class_index=291)\n",
        "\n",
        "explainer.save(grid, \".\", \"/content/drive/grad_cam.png\")"
      ]
    },
    {
      "cell_type": "markdown",
      "metadata": {
        "id": "udL26FCejz8c"
      },
      "source": [
        "### GradCam: Application"
      ]
    },
    {
      "cell_type": "code",
      "execution_count": null,
      "metadata": {
        "id": "9A-qsvi5hbBA"
      },
      "outputs": [],
      "source": [
        "# Load a sample image (or multiple ones)\n",
        "img = tf.keras.preprocessing.image.load_img('/content/animal_164.jpg', target_size=(64, 64))\n",
        "img = tf.keras.preprocessing.image.img_to_array(img)\n",
        "data = ([img], None)\n",
        "\n",
        "# Start explainer\n",
        "explainer = GradCAM()\n",
        "grid = explainer.explain(data, model, class_index=3)\n",
        "\n",
        "explainer.save(grid, \".\", \"/content/drive/grad_cam_164.png\")"
      ]
    },
    {
      "cell_type": "code",
      "execution_count": null,
      "metadata": {
        "id": "xgKl2EcLha9h"
      },
      "outputs": [],
      "source": []
    },
    {
      "cell_type": "code",
      "execution_count": null,
      "metadata": {
        "id": "kcoLCiDeha51"
      },
      "outputs": [],
      "source": []
    },
    {
      "cell_type": "code",
      "execution_count": null,
      "metadata": {
        "id": "5ML9Y-B5ha17"
      },
      "outputs": [],
      "source": []
    },
    {
      "cell_type": "code",
      "execution_count": null,
      "metadata": {
        "id": "ozpQCCsaF0VM"
      },
      "outputs": [],
      "source": [
        "########################################################################################################\"\""
      ]
    },
    {
      "cell_type": "code",
      "execution_count": null,
      "metadata": {
        "colab": {
          "base_uri": "https://localhost:8080/"
        },
        "id": "r6wWFPquRpW0",
        "outputId": "829a571f-366c-4618-b0e2-a43650ea6233"
      },
      "outputs": [
        {
          "name": "stdout",
          "output_type": "stream",
          "text": [
            "Mounted at /content/drive\n"
          ]
        }
      ],
      "source": [
        "from google.colab import drive\n",
        "drive.mount('/content/drive')"
      ]
    },
    {
      "cell_type": "code",
      "execution_count": null,
      "metadata": {
        "id": "7Xh48o7HRpTg"
      },
      "outputs": [],
      "source": [
        "# Save to Drive\n",
        "np.save('/content/drive/MyDrive/y_encoded.npy', labels_encoded)"
      ]
    },
    {
      "cell_type": "code",
      "execution_count": null,
      "metadata": {
        "id": "D-5eOMVTWKMf"
      },
      "outputs": [],
      "source": [
        "labels_encoded_data=pd.DataFrame(labels_encoded)"
      ]
    },
    {
      "cell_type": "code",
      "execution_count": null,
      "metadata": {
        "id": "WQtPOJGY8514"
      },
      "outputs": [],
      "source": [
        "# Save the DataFrame to a CSV file\n",
        "labels_encoded_data.to_csv('/content/labels_encoded.csv', index=False)"
      ]
    },
    {
      "cell_type": "code",
      "execution_count": null,
      "metadata": {
        "colab": {
          "base_uri": "https://localhost:8080/",
          "height": 176
        },
        "id": "yh7kMkrl85ze",
        "outputId": "a7e010f4-0c4a-44fe-f7c1-79ce8dd622fb"
      },
      "outputs": [
        {
          "ename": "NameError",
          "evalue": "ignored",
          "output_type": "error",
          "traceback": [
            "\u001b[0;31m---------------------------------------------------------------------------\u001b[0m",
            "\u001b[0;31mNameError\u001b[0m                                 Traceback (most recent call last)",
            "\u001b[0;32m<ipython-input-188-0d05cd5a4998>\u001b[0m in \u001b[0;36m<cell line: 1>\u001b[0;34m()\u001b[0m\n\u001b[0;32m----> 1\u001b[0;31m \u001b[0my_encoded\u001b[0m\u001b[0;34m\u001b[0m\u001b[0;34m\u001b[0m\u001b[0m\n\u001b[0m",
            "\u001b[0;31mNameError\u001b[0m: name 'y_encoded' is not defined"
          ]
        }
      ],
      "source": []
    },
    {
      "cell_type": "code",
      "execution_count": null,
      "metadata": {
        "id": "k-FF9i-VVQS_"
      },
      "outputs": [],
      "source": [
        "target=np.load('/encoded.npy')"
      ]
    },
    {
      "cell_type": "code",
      "execution_count": null,
      "metadata": {
        "colab": {
          "base_uri": "https://localhost:8080/"
        },
        "id": "0NL-lEqcVQPU",
        "outputId": "cdc81e6e-75e6-4662-d80c-336cc8898e82"
      },
      "outputs": [
        {
          "data": {
            "text/plain": [
              "array([3, 2, 4, 2, 3, 2, 3, 0, 4, 3, 2, 0, 2, 2, 2, 0, 0, 3, 2, 0, 3, 0,\n",
              "       2, 0, 2, 0, 0, 1, 0, 2, 0, 0, 0, 2, 2, 2, 0, 2, 3, 3, 3, 3, 2, 1,\n",
              "       2, 3, 2, 0, 2, 3, 4, 0, 0, 0, 2, 3, 2, 3, 2, 2, 4, 3, 2, 0, 0, 0,\n",
              "       2, 3, 2, 0, 1, 4, 4, 4, 2, 2, 0, 1, 0, 2, 2, 0, 2, 2, 0, 2, 0, 0,\n",
              "       2, 3, 0, 2, 2, 2, 2, 3, 0, 3, 0, 2, 2, 3, 2, 0, 2, 0, 0, 3, 3, 0,\n",
              "       0, 3, 2, 0, 2, 0, 3, 0, 3, 0, 3, 4, 0, 4, 0, 2, 3, 3, 0, 0, 3, 0,\n",
              "       3, 3, 0, 0, 0, 0, 3, 3, 3, 0, 2, 3, 0, 4, 4, 1, 3, 2, 2, 3, 2, 1,\n",
              "       3, 3, 2, 3, 0, 1, 0, 3, 2, 3, 3, 4, 2, 2, 0, 0, 3, 3, 3, 0, 3, 1,\n",
              "       3, 0, 2, 3, 3, 0, 3, 3, 0, 0, 1, 0, 2, 2, 3, 3, 0, 1, 1, 3, 4, 2,\n",
              "       2, 0, 3, 2, 3, 0, 4, 1, 1, 2, 3, 3, 0, 3, 3, 0, 0, 2, 0, 3, 0, 3,\n",
              "       0, 3, 2, 3, 3, 3, 0, 3, 2, 3, 2, 3, 3, 2, 2, 2, 0, 4, 0, 3, 2, 3,\n",
              "       3, 2, 0, 3, 3, 1, 0, 3, 3, 4, 2, 0, 0, 0, 3, 0, 2, 0, 2, 2, 2, 2,\n",
              "       0, 2, 3, 3, 2, 1, 0, 3, 3, 0, 3, 3, 3, 2, 3, 0, 3, 3, 2, 3, 0, 4,\n",
              "       2, 3, 2, 2, 0, 0, 3, 2, 3, 2, 3, 2, 0, 0, 0, 2, 2, 3, 2, 0, 2, 2,\n",
              "       0, 3, 0, 0, 2, 0, 0, 3, 0, 2, 2, 3, 2, 2, 2, 2, 2, 4, 0, 3, 0, 0,\n",
              "       3, 2, 3, 2, 2, 2, 2, 2, 0, 3, 0, 2, 3, 0, 2, 0, 0, 2, 0, 3, 3, 0,\n",
              "       3, 0, 2, 3, 2, 2, 3, 0, 3, 2, 4, 2, 3, 3, 0, 0, 4, 3, 4, 3, 0, 2,\n",
              "       0, 3, 3, 0, 0, 3, 2, 2, 3, 0, 1, 1, 0, 2, 3, 0, 3, 0, 2, 2, 2, 2,\n",
              "       2, 2, 2, 3, 2, 3, 0, 1, 0, 3, 2, 0, 3, 4, 0, 0, 3, 2, 3, 2, 0, 3,\n",
              "       3, 0, 4, 1, 2, 3, 3, 0, 0, 0, 2, 0, 3, 0, 0, 3, 4, 3, 3, 2, 0, 2,\n",
              "       0, 0, 3, 3, 2, 0, 3, 3, 3, 3, 0, 2, 4, 2, 2, 3, 0, 3, 0, 4, 2, 0,\n",
              "       2, 1, 3, 0, 3, 0, 0, 0, 3, 2, 3, 0, 3, 3, 2, 4, 3, 4, 3, 0, 2, 3,\n",
              "       2, 0, 3, 2, 0, 0, 3, 3, 3, 3, 2, 0, 4, 0, 4, 0, 0, 2, 0, 3, 2, 0,\n",
              "       3, 3, 2, 2, 3, 1, 0, 3, 3, 2, 0, 0, 0, 4, 2, 2, 3, 3, 4, 0, 3, 2,\n",
              "       0, 4, 1, 3, 2, 3, 0, 3])"
            ]
          },
          "execution_count": 9,
          "metadata": {},
          "output_type": "execute_result"
        }
      ],
      "source": [
        "target"
      ]
    },
    {
      "cell_type": "code",
      "execution_count": null,
      "metadata": {
        "id": "Ouls7S6KVQKo"
      },
      "outputs": [],
      "source": []
    }
  ],
  "metadata": {
    "colab": {
      "machine_shape": "hm",
      "provenance": []
    },
    "kernelspec": {
      "display_name": "Python 3",
      "name": "python3"
    },
    "language_info": {
      "codemirror_mode": {
        "name": "ipython",
        "version": 3
      },
      "file_extension": ".py",
      "mimetype": "text/x-python",
      "name": "python",
      "nbconvert_exporter": "python",
      "pygments_lexer": "ipython3",
      "version": "3.7.6"
    }
  },
  "nbformat": 4,
  "nbformat_minor": 0
}